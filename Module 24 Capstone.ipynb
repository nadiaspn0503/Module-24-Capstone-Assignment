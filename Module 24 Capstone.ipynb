{
 "cells": [
  {
   "cell_type": "markdown",
   "metadata": {},
   "source": [
    "# Capstone Assignment: Comparing Recommendation Systems\n",
    "\n",
    "**Overview**: In this Capstone Assignment, my goal is to compare the performance of various recommendation systems, namely Content-Based Filtering, Collaborative Filtering, and Hybrid Recommendation Systems. I will utilize datasets related to book ratings. \n",
    "\n"
   ]
  },
  {
   "cell_type": "markdown",
   "metadata": {},
   "source": [
    "### Getting Started\n",
    "\n",
    "The datasets are from the Goodreads Book Grapgh Datasets. The ratings.csv dataset consists of ratings given to various books by Goodreads users. The books.csv dataset provides information about each book that is rated including the title, original publication year, ISBN, average rating, and more. These datasets can be found [here](https://cseweb.ucsd.edu/~jmcauley/datasets/goodreads.html#datasets) Goodreads has asked for the following citations to be provided upon use:\n",
    "- Mengting Wan, Julian McAuley, \"Item Recommendation on Monotonic Behavior Chains\", in RecSys'18. [bibtex]\n",
    "- Mengting Wan, Rishabh Misra, Ndapa Nakashole, Julian McAuley, \"Fine-Grained Spoiler Detection from Large-Scale Review Corpora\", in ACL'19. [bibtex]\n",
    "\n",
    "It should be noted that the original datasets from the Goodreads website provided above were too large to load onto my computer. Therefore, I am using modified versions of the datasets from the GitHub user zygmuntz through their goodbooks-10k repository which can be found [here](https://github.com/zygmuntz/goodbooks-10k). The ratings.csv and books.csv datasets are what I will use. It should be noted that the modifications to the datasets are necessary for modeling. To be specific, the original ratings dataset consisted of Goodreads-specific user and book IDs. The modified ratings dataset gives a more uniform identification to the books and users. These identification numbers were provided by Goodreads with the purpose of being combined and added to the ratings dataset.\n",
    "\n"
   ]
  },
  {
   "cell_type": "markdown",
   "metadata": {},
   "source": [
    "### Problem 1: Understanding the Data\n",
    "\n",
    "To gain a better understanding of the data, please read the information provided in the Goodreads link above, and examine the **Overview** section of the page."
   ]
  },
  {
   "cell_type": "markdown",
   "metadata": {},
   "source": [
    "All the data was collected in late 2017 from goodreads.com. Three groups of datasets were collected. These datasets include meta-data of the books, user-book interactions, and users' detailed book reviews. All three datasets can be joined on book, user, and review IDs. \n",
    "\n",
    "The ratings.csv dataset provides the ratings given to multiple different books from multiple different users. Each book has been reviewed by multiple users and each user has reviewed multiple books. In total, there are 3 columns (user_id, book_id, and rating) and 100,000 rows. The books.csv dataset provides information on each book that has been reviewed. 10,000 books have been reviewed. "
   ]
  },
  {
   "cell_type": "markdown",
   "metadata": {},
   "source": [
    "### Problem 2: Read in the Data\n",
    "\n",
    "Use pandas to read in the datasets `ratings.csv` and `books.csv`and assign to a meaningful variable name."
   ]
  },
  {
   "cell_type": "code",
   "execution_count": 229,
   "metadata": {},
   "outputs": [],
   "source": [
    "# Import the appropriate libraries\n",
    "\n",
    "import numpy as np\n",
    "import pandas as pd\n",
    "import seaborn as sns\n",
    "import plotly.express as px\n",
    "import matplotlib.pyplot as plt\n",
    "\n",
    "import random\n",
    "from sklearn.preprocessing import LabelEncoder\n",
    "from sklearn.model_selection import train_test_split\n",
    "\n",
    "import time\n",
    "import hnswlib\n",
    "from annoy import AnnoyIndex\n",
    "from sklearn.ensemble import RandomForestClassifier\n",
    "from surprise import Dataset, Reader, SVD, NMF, KNNBasic, SlopeOne, CoClustering\n",
    "\n",
    "import itertools\n",
    "from collections import defaultdict\n",
    "from joblib import Parallel, delayed\n",
    "from scipy.stats import randint, uniform\n",
    "from sklearn.preprocessing import MinMaxScaler\n",
    "\n",
    "from sklearn.metrics import precision_score, recall_score\n",
    "from surprise.model_selection import cross_validate, RandomizedSearchCV\n",
    "\n"
   ]
  },
  {
   "cell_type": "code",
   "execution_count": 230,
   "metadata": {},
   "outputs": [],
   "source": [
    "# Load the data\n",
    "\n",
    "ratings = pd.read_csv('data/ratings.csv')\n",
    "books = pd.read_csv('data/books.csv')\n"
   ]
  },
  {
   "cell_type": "code",
   "execution_count": 231,
   "metadata": {},
   "outputs": [
    {
     "data": {
      "text/html": [
       "<div>\n",
       "<style scoped>\n",
       "    .dataframe tbody tr th:only-of-type {\n",
       "        vertical-align: middle;\n",
       "    }\n",
       "\n",
       "    .dataframe tbody tr th {\n",
       "        vertical-align: top;\n",
       "    }\n",
       "\n",
       "    .dataframe thead th {\n",
       "        text-align: right;\n",
       "    }\n",
       "</style>\n",
       "<table border=\"1\" class=\"dataframe\">\n",
       "  <thead>\n",
       "    <tr style=\"text-align: right;\">\n",
       "      <th></th>\n",
       "      <th>user_id</th>\n",
       "      <th>book_id</th>\n",
       "      <th>rating</th>\n",
       "    </tr>\n",
       "  </thead>\n",
       "  <tbody>\n",
       "    <tr>\n",
       "      <th>0</th>\n",
       "      <td>1</td>\n",
       "      <td>258</td>\n",
       "      <td>5</td>\n",
       "    </tr>\n",
       "    <tr>\n",
       "      <th>1</th>\n",
       "      <td>2</td>\n",
       "      <td>4081</td>\n",
       "      <td>4</td>\n",
       "    </tr>\n",
       "    <tr>\n",
       "      <th>2</th>\n",
       "      <td>2</td>\n",
       "      <td>260</td>\n",
       "      <td>5</td>\n",
       "    </tr>\n",
       "    <tr>\n",
       "      <th>3</th>\n",
       "      <td>2</td>\n",
       "      <td>9296</td>\n",
       "      <td>5</td>\n",
       "    </tr>\n",
       "    <tr>\n",
       "      <th>4</th>\n",
       "      <td>2</td>\n",
       "      <td>2318</td>\n",
       "      <td>3</td>\n",
       "    </tr>\n",
       "  </tbody>\n",
       "</table>\n",
       "</div>"
      ],
      "text/plain": [
       "   user_id  book_id  rating\n",
       "0        1      258       5\n",
       "1        2     4081       4\n",
       "2        2      260       5\n",
       "3        2     9296       5\n",
       "4        2     2318       3"
      ]
     },
     "execution_count": 231,
     "metadata": {},
     "output_type": "execute_result"
    }
   ],
   "source": [
    "# Sample the first 5 rows of the full dataset\n",
    "\n",
    "ratings.head()"
   ]
  },
  {
   "cell_type": "code",
   "execution_count": 232,
   "metadata": {},
   "outputs": [
    {
     "data": {
      "text/html": [
       "<div>\n",
       "<style scoped>\n",
       "    .dataframe tbody tr th:only-of-type {\n",
       "        vertical-align: middle;\n",
       "    }\n",
       "\n",
       "    .dataframe tbody tr th {\n",
       "        vertical-align: top;\n",
       "    }\n",
       "\n",
       "    .dataframe thead th {\n",
       "        text-align: right;\n",
       "    }\n",
       "</style>\n",
       "<table border=\"1\" class=\"dataframe\">\n",
       "  <thead>\n",
       "    <tr style=\"text-align: right;\">\n",
       "      <th></th>\n",
       "      <th>book_id</th>\n",
       "      <th>goodreads_book_id</th>\n",
       "      <th>best_book_id</th>\n",
       "      <th>work_id</th>\n",
       "      <th>books_count</th>\n",
       "      <th>isbn</th>\n",
       "      <th>isbn13</th>\n",
       "      <th>authors</th>\n",
       "      <th>original_publication_year</th>\n",
       "      <th>original_title</th>\n",
       "      <th>...</th>\n",
       "      <th>ratings_count</th>\n",
       "      <th>work_ratings_count</th>\n",
       "      <th>work_text_reviews_count</th>\n",
       "      <th>ratings_1</th>\n",
       "      <th>ratings_2</th>\n",
       "      <th>ratings_3</th>\n",
       "      <th>ratings_4</th>\n",
       "      <th>ratings_5</th>\n",
       "      <th>image_url</th>\n",
       "      <th>small_image_url</th>\n",
       "    </tr>\n",
       "  </thead>\n",
       "  <tbody>\n",
       "    <tr>\n",
       "      <th>0</th>\n",
       "      <td>1</td>\n",
       "      <td>2767052</td>\n",
       "      <td>2767052</td>\n",
       "      <td>2792775</td>\n",
       "      <td>272</td>\n",
       "      <td>439023483</td>\n",
       "      <td>9.780439e+12</td>\n",
       "      <td>Suzanne Collins</td>\n",
       "      <td>2008.0</td>\n",
       "      <td>The Hunger Games</td>\n",
       "      <td>...</td>\n",
       "      <td>4780653</td>\n",
       "      <td>4942365</td>\n",
       "      <td>155254</td>\n",
       "      <td>66715</td>\n",
       "      <td>127936</td>\n",
       "      <td>560092</td>\n",
       "      <td>1481305</td>\n",
       "      <td>2706317</td>\n",
       "      <td>https://images.gr-assets.com/books/1447303603m...</td>\n",
       "      <td>https://images.gr-assets.com/books/1447303603s...</td>\n",
       "    </tr>\n",
       "    <tr>\n",
       "      <th>1</th>\n",
       "      <td>2</td>\n",
       "      <td>3</td>\n",
       "      <td>3</td>\n",
       "      <td>4640799</td>\n",
       "      <td>491</td>\n",
       "      <td>439554934</td>\n",
       "      <td>9.780440e+12</td>\n",
       "      <td>J.K. Rowling, Mary GrandPré</td>\n",
       "      <td>1997.0</td>\n",
       "      <td>Harry Potter and the Philosopher's Stone</td>\n",
       "      <td>...</td>\n",
       "      <td>4602479</td>\n",
       "      <td>4800065</td>\n",
       "      <td>75867</td>\n",
       "      <td>75504</td>\n",
       "      <td>101676</td>\n",
       "      <td>455024</td>\n",
       "      <td>1156318</td>\n",
       "      <td>3011543</td>\n",
       "      <td>https://images.gr-assets.com/books/1474154022m...</td>\n",
       "      <td>https://images.gr-assets.com/books/1474154022s...</td>\n",
       "    </tr>\n",
       "    <tr>\n",
       "      <th>2</th>\n",
       "      <td>3</td>\n",
       "      <td>41865</td>\n",
       "      <td>41865</td>\n",
       "      <td>3212258</td>\n",
       "      <td>226</td>\n",
       "      <td>316015849</td>\n",
       "      <td>9.780316e+12</td>\n",
       "      <td>Stephenie Meyer</td>\n",
       "      <td>2005.0</td>\n",
       "      <td>Twilight</td>\n",
       "      <td>...</td>\n",
       "      <td>3866839</td>\n",
       "      <td>3916824</td>\n",
       "      <td>95009</td>\n",
       "      <td>456191</td>\n",
       "      <td>436802</td>\n",
       "      <td>793319</td>\n",
       "      <td>875073</td>\n",
       "      <td>1355439</td>\n",
       "      <td>https://images.gr-assets.com/books/1361039443m...</td>\n",
       "      <td>https://images.gr-assets.com/books/1361039443s...</td>\n",
       "    </tr>\n",
       "    <tr>\n",
       "      <th>3</th>\n",
       "      <td>4</td>\n",
       "      <td>2657</td>\n",
       "      <td>2657</td>\n",
       "      <td>3275794</td>\n",
       "      <td>487</td>\n",
       "      <td>61120081</td>\n",
       "      <td>9.780061e+12</td>\n",
       "      <td>Harper Lee</td>\n",
       "      <td>1960.0</td>\n",
       "      <td>To Kill a Mockingbird</td>\n",
       "      <td>...</td>\n",
       "      <td>3198671</td>\n",
       "      <td>3340896</td>\n",
       "      <td>72586</td>\n",
       "      <td>60427</td>\n",
       "      <td>117415</td>\n",
       "      <td>446835</td>\n",
       "      <td>1001952</td>\n",
       "      <td>1714267</td>\n",
       "      <td>https://images.gr-assets.com/books/1361975680m...</td>\n",
       "      <td>https://images.gr-assets.com/books/1361975680s...</td>\n",
       "    </tr>\n",
       "    <tr>\n",
       "      <th>4</th>\n",
       "      <td>5</td>\n",
       "      <td>4671</td>\n",
       "      <td>4671</td>\n",
       "      <td>245494</td>\n",
       "      <td>1356</td>\n",
       "      <td>743273567</td>\n",
       "      <td>9.780743e+12</td>\n",
       "      <td>F. Scott Fitzgerald</td>\n",
       "      <td>1925.0</td>\n",
       "      <td>The Great Gatsby</td>\n",
       "      <td>...</td>\n",
       "      <td>2683664</td>\n",
       "      <td>2773745</td>\n",
       "      <td>51992</td>\n",
       "      <td>86236</td>\n",
       "      <td>197621</td>\n",
       "      <td>606158</td>\n",
       "      <td>936012</td>\n",
       "      <td>947718</td>\n",
       "      <td>https://images.gr-assets.com/books/1490528560m...</td>\n",
       "      <td>https://images.gr-assets.com/books/1490528560s...</td>\n",
       "    </tr>\n",
       "  </tbody>\n",
       "</table>\n",
       "<p>5 rows × 23 columns</p>\n",
       "</div>"
      ],
      "text/plain": [
       "   book_id  goodreads_book_id  best_book_id  work_id  books_count       isbn  \\\n",
       "0        1            2767052       2767052  2792775          272  439023483   \n",
       "1        2                  3             3  4640799          491  439554934   \n",
       "2        3              41865         41865  3212258          226  316015849   \n",
       "3        4               2657          2657  3275794          487   61120081   \n",
       "4        5               4671          4671   245494         1356  743273567   \n",
       "\n",
       "         isbn13                      authors  original_publication_year  \\\n",
       "0  9.780439e+12              Suzanne Collins                     2008.0   \n",
       "1  9.780440e+12  J.K. Rowling, Mary GrandPré                     1997.0   \n",
       "2  9.780316e+12              Stephenie Meyer                     2005.0   \n",
       "3  9.780061e+12                   Harper Lee                     1960.0   \n",
       "4  9.780743e+12          F. Scott Fitzgerald                     1925.0   \n",
       "\n",
       "                             original_title  ... ratings_count  \\\n",
       "0                          The Hunger Games  ...       4780653   \n",
       "1  Harry Potter and the Philosopher's Stone  ...       4602479   \n",
       "2                                  Twilight  ...       3866839   \n",
       "3                     To Kill a Mockingbird  ...       3198671   \n",
       "4                          The Great Gatsby  ...       2683664   \n",
       "\n",
       "  work_ratings_count  work_text_reviews_count  ratings_1  ratings_2  \\\n",
       "0            4942365                   155254      66715     127936   \n",
       "1            4800065                    75867      75504     101676   \n",
       "2            3916824                    95009     456191     436802   \n",
       "3            3340896                    72586      60427     117415   \n",
       "4            2773745                    51992      86236     197621   \n",
       "\n",
       "   ratings_3  ratings_4  ratings_5  \\\n",
       "0     560092    1481305    2706317   \n",
       "1     455024    1156318    3011543   \n",
       "2     793319     875073    1355439   \n",
       "3     446835    1001952    1714267   \n",
       "4     606158     936012     947718   \n",
       "\n",
       "                                           image_url  \\\n",
       "0  https://images.gr-assets.com/books/1447303603m...   \n",
       "1  https://images.gr-assets.com/books/1474154022m...   \n",
       "2  https://images.gr-assets.com/books/1361039443m...   \n",
       "3  https://images.gr-assets.com/books/1361975680m...   \n",
       "4  https://images.gr-assets.com/books/1490528560m...   \n",
       "\n",
       "                                     small_image_url  \n",
       "0  https://images.gr-assets.com/books/1447303603s...  \n",
       "1  https://images.gr-assets.com/books/1474154022s...  \n",
       "2  https://images.gr-assets.com/books/1361039443s...  \n",
       "3  https://images.gr-assets.com/books/1361975680s...  \n",
       "4  https://images.gr-assets.com/books/1490528560s...  \n",
       "\n",
       "[5 rows x 23 columns]"
      ]
     },
     "execution_count": 232,
     "metadata": {},
     "output_type": "execute_result"
    }
   ],
   "source": [
    "books.head()"
   ]
  },
  {
   "cell_type": "markdown",
   "metadata": {},
   "source": [
    "### Problem 3: Understanding the Features Through Data Cleaning\n",
    "\n",
    "\n",
    "Examine the data description below, and determine if any of the features are missing values or need to be coerced to a different data type.\n",
    "\n",
    "\n",
    "```\n",
    "Input variables:\n",
    "# Goodreads Book Graph Data:\n",
    "1 - User-ID : Gives anonymity to each Goodreads user. With the User-ID one can search through the user_id_map.csv dataset to find the users' Goodreads user_id. (numeric)\n",
    "2 - Book-ID : Allows each book to be identifiable while also keeping the data numeric and simple for modeling. With the Book-ID one can search through the book_id_map.csv dataset to find the books' Goodreads user_id. One can also search the books.csv for the specific title of the book and information about it. (numeric)\n",
    "Output variable (desired target):\n",
    "21 - Rating - How much does the member like the book? (numeric: 1-5 with 5 being the highest appreciation)\n",
    "```\n",
    "\n"
   ]
  },
  {
   "cell_type": "markdown",
   "metadata": {},
   "source": [
    "There are no missing values or duplicate columns in the ratings.csv dataset. The books.csv dataset did have missing values but no duplicate values. The missing values/rows in the books.csv dataset have been dropped and the index has been reset."
   ]
  },
  {
   "cell_type": "code",
   "execution_count": 233,
   "metadata": {},
   "outputs": [
    {
     "data": {
      "text/plain": [
       "user_id    0\n",
       "book_id    0\n",
       "rating     0\n",
       "dtype: int64"
      ]
     },
     "execution_count": 233,
     "metadata": {},
     "output_type": "execute_result"
    }
   ],
   "source": [
    "# Check/count the missing data in the rtaings dataset\n",
    "\n",
    "missing_rates = ratings.isnull().sum()\n",
    "missing_rates"
   ]
  },
  {
   "cell_type": "code",
   "execution_count": 234,
   "metadata": {},
   "outputs": [
    {
     "data": {
      "text/plain": [
       "book_id                         0\n",
       "goodreads_book_id               0\n",
       "best_book_id                    0\n",
       "work_id                         0\n",
       "books_count                     0\n",
       "isbn                          700\n",
       "isbn13                        585\n",
       "authors                         0\n",
       "original_publication_year      21\n",
       "original_title                585\n",
       "title                           0\n",
       "language_code                1084\n",
       "average_rating                  0\n",
       "ratings_count                   0\n",
       "work_ratings_count              0\n",
       "work_text_reviews_count         0\n",
       "ratings_1                       0\n",
       "ratings_2                       0\n",
       "ratings_3                       0\n",
       "ratings_4                       0\n",
       "ratings_5                       0\n",
       "image_url                       0\n",
       "small_image_url                 0\n",
       "dtype: int64"
      ]
     },
     "execution_count": 234,
     "metadata": {},
     "output_type": "execute_result"
    }
   ],
   "source": [
    "# Check/count the missing data in the books dataset\n",
    "\n",
    "missing_books = books.isnull().sum()\n",
    "missing_books"
   ]
  },
  {
   "cell_type": "code",
   "execution_count": 235,
   "metadata": {},
   "outputs": [
    {
     "data": {
      "text/html": [
       "<div>\n",
       "<style scoped>\n",
       "    .dataframe tbody tr th:only-of-type {\n",
       "        vertical-align: middle;\n",
       "    }\n",
       "\n",
       "    .dataframe tbody tr th {\n",
       "        vertical-align: top;\n",
       "    }\n",
       "\n",
       "    .dataframe thead th {\n",
       "        text-align: right;\n",
       "    }\n",
       "</style>\n",
       "<table border=\"1\" class=\"dataframe\">\n",
       "  <thead>\n",
       "    <tr style=\"text-align: right;\">\n",
       "      <th></th>\n",
       "      <th>book_id</th>\n",
       "      <th>goodreads_book_id</th>\n",
       "      <th>best_book_id</th>\n",
       "      <th>work_id</th>\n",
       "      <th>books_count</th>\n",
       "      <th>isbn</th>\n",
       "      <th>isbn13</th>\n",
       "      <th>authors</th>\n",
       "      <th>original_publication_year</th>\n",
       "      <th>original_title</th>\n",
       "      <th>...</th>\n",
       "      <th>ratings_count</th>\n",
       "      <th>work_ratings_count</th>\n",
       "      <th>work_text_reviews_count</th>\n",
       "      <th>ratings_1</th>\n",
       "      <th>ratings_2</th>\n",
       "      <th>ratings_3</th>\n",
       "      <th>ratings_4</th>\n",
       "      <th>ratings_5</th>\n",
       "      <th>image_url</th>\n",
       "      <th>small_image_url</th>\n",
       "    </tr>\n",
       "  </thead>\n",
       "  <tbody>\n",
       "    <tr>\n",
       "      <th>0</th>\n",
       "      <td>1</td>\n",
       "      <td>2767052</td>\n",
       "      <td>2767052</td>\n",
       "      <td>2792775</td>\n",
       "      <td>272</td>\n",
       "      <td>439023483</td>\n",
       "      <td>9.780439e+12</td>\n",
       "      <td>Suzanne Collins</td>\n",
       "      <td>2008.0</td>\n",
       "      <td>The Hunger Games</td>\n",
       "      <td>...</td>\n",
       "      <td>4780653</td>\n",
       "      <td>4942365</td>\n",
       "      <td>155254</td>\n",
       "      <td>66715</td>\n",
       "      <td>127936</td>\n",
       "      <td>560092</td>\n",
       "      <td>1481305</td>\n",
       "      <td>2706317</td>\n",
       "      <td>https://images.gr-assets.com/books/1447303603m...</td>\n",
       "      <td>https://images.gr-assets.com/books/1447303603s...</td>\n",
       "    </tr>\n",
       "    <tr>\n",
       "      <th>1</th>\n",
       "      <td>2</td>\n",
       "      <td>3</td>\n",
       "      <td>3</td>\n",
       "      <td>4640799</td>\n",
       "      <td>491</td>\n",
       "      <td>439554934</td>\n",
       "      <td>9.780440e+12</td>\n",
       "      <td>J.K. Rowling, Mary GrandPré</td>\n",
       "      <td>1997.0</td>\n",
       "      <td>Harry Potter and the Philosopher's Stone</td>\n",
       "      <td>...</td>\n",
       "      <td>4602479</td>\n",
       "      <td>4800065</td>\n",
       "      <td>75867</td>\n",
       "      <td>75504</td>\n",
       "      <td>101676</td>\n",
       "      <td>455024</td>\n",
       "      <td>1156318</td>\n",
       "      <td>3011543</td>\n",
       "      <td>https://images.gr-assets.com/books/1474154022m...</td>\n",
       "      <td>https://images.gr-assets.com/books/1474154022s...</td>\n",
       "    </tr>\n",
       "    <tr>\n",
       "      <th>2</th>\n",
       "      <td>3</td>\n",
       "      <td>41865</td>\n",
       "      <td>41865</td>\n",
       "      <td>3212258</td>\n",
       "      <td>226</td>\n",
       "      <td>316015849</td>\n",
       "      <td>9.780316e+12</td>\n",
       "      <td>Stephenie Meyer</td>\n",
       "      <td>2005.0</td>\n",
       "      <td>Twilight</td>\n",
       "      <td>...</td>\n",
       "      <td>3866839</td>\n",
       "      <td>3916824</td>\n",
       "      <td>95009</td>\n",
       "      <td>456191</td>\n",
       "      <td>436802</td>\n",
       "      <td>793319</td>\n",
       "      <td>875073</td>\n",
       "      <td>1355439</td>\n",
       "      <td>https://images.gr-assets.com/books/1361039443m...</td>\n",
       "      <td>https://images.gr-assets.com/books/1361039443s...</td>\n",
       "    </tr>\n",
       "    <tr>\n",
       "      <th>3</th>\n",
       "      <td>4</td>\n",
       "      <td>2657</td>\n",
       "      <td>2657</td>\n",
       "      <td>3275794</td>\n",
       "      <td>487</td>\n",
       "      <td>61120081</td>\n",
       "      <td>9.780061e+12</td>\n",
       "      <td>Harper Lee</td>\n",
       "      <td>1960.0</td>\n",
       "      <td>To Kill a Mockingbird</td>\n",
       "      <td>...</td>\n",
       "      <td>3198671</td>\n",
       "      <td>3340896</td>\n",
       "      <td>72586</td>\n",
       "      <td>60427</td>\n",
       "      <td>117415</td>\n",
       "      <td>446835</td>\n",
       "      <td>1001952</td>\n",
       "      <td>1714267</td>\n",
       "      <td>https://images.gr-assets.com/books/1361975680m...</td>\n",
       "      <td>https://images.gr-assets.com/books/1361975680s...</td>\n",
       "    </tr>\n",
       "    <tr>\n",
       "      <th>4</th>\n",
       "      <td>5</td>\n",
       "      <td>4671</td>\n",
       "      <td>4671</td>\n",
       "      <td>245494</td>\n",
       "      <td>1356</td>\n",
       "      <td>743273567</td>\n",
       "      <td>9.780743e+12</td>\n",
       "      <td>F. Scott Fitzgerald</td>\n",
       "      <td>1925.0</td>\n",
       "      <td>The Great Gatsby</td>\n",
       "      <td>...</td>\n",
       "      <td>2683664</td>\n",
       "      <td>2773745</td>\n",
       "      <td>51992</td>\n",
       "      <td>86236</td>\n",
       "      <td>197621</td>\n",
       "      <td>606158</td>\n",
       "      <td>936012</td>\n",
       "      <td>947718</td>\n",
       "      <td>https://images.gr-assets.com/books/1490528560m...</td>\n",
       "      <td>https://images.gr-assets.com/books/1490528560s...</td>\n",
       "    </tr>\n",
       "    <tr>\n",
       "      <th>...</th>\n",
       "      <td>...</td>\n",
       "      <td>...</td>\n",
       "      <td>...</td>\n",
       "      <td>...</td>\n",
       "      <td>...</td>\n",
       "      <td>...</td>\n",
       "      <td>...</td>\n",
       "      <td>...</td>\n",
       "      <td>...</td>\n",
       "      <td>...</td>\n",
       "      <td>...</td>\n",
       "      <td>...</td>\n",
       "      <td>...</td>\n",
       "      <td>...</td>\n",
       "      <td>...</td>\n",
       "      <td>...</td>\n",
       "      <td>...</td>\n",
       "      <td>...</td>\n",
       "      <td>...</td>\n",
       "      <td>...</td>\n",
       "      <td>...</td>\n",
       "    </tr>\n",
       "    <tr>\n",
       "      <th>9994</th>\n",
       "      <td>9995</td>\n",
       "      <td>15613</td>\n",
       "      <td>15613</td>\n",
       "      <td>2764239</td>\n",
       "      <td>199</td>\n",
       "      <td>1416523723</td>\n",
       "      <td>9.781417e+12</td>\n",
       "      <td>Herman Melville</td>\n",
       "      <td>1924.0</td>\n",
       "      <td>Billy Budd, Sailor</td>\n",
       "      <td>...</td>\n",
       "      <td>10866</td>\n",
       "      <td>12110</td>\n",
       "      <td>681</td>\n",
       "      <td>1478</td>\n",
       "      <td>2225</td>\n",
       "      <td>3805</td>\n",
       "      <td>2985</td>\n",
       "      <td>1617</td>\n",
       "      <td>https://s.gr-assets.com/assets/nophoto/book/11...</td>\n",
       "      <td>https://s.gr-assets.com/assets/nophoto/book/50...</td>\n",
       "    </tr>\n",
       "    <tr>\n",
       "      <th>9995</th>\n",
       "      <td>9996</td>\n",
       "      <td>7130616</td>\n",
       "      <td>7130616</td>\n",
       "      <td>7392860</td>\n",
       "      <td>19</td>\n",
       "      <td>441019455</td>\n",
       "      <td>9.780441e+12</td>\n",
       "      <td>Ilona Andrews</td>\n",
       "      <td>2010.0</td>\n",
       "      <td>Bayou Moon</td>\n",
       "      <td>...</td>\n",
       "      <td>17204</td>\n",
       "      <td>18856</td>\n",
       "      <td>1180</td>\n",
       "      <td>105</td>\n",
       "      <td>575</td>\n",
       "      <td>3538</td>\n",
       "      <td>7860</td>\n",
       "      <td>6778</td>\n",
       "      <td>https://images.gr-assets.com/books/1307445460m...</td>\n",
       "      <td>https://images.gr-assets.com/books/1307445460s...</td>\n",
       "    </tr>\n",
       "    <tr>\n",
       "      <th>9996</th>\n",
       "      <td>9997</td>\n",
       "      <td>208324</td>\n",
       "      <td>208324</td>\n",
       "      <td>1084709</td>\n",
       "      <td>19</td>\n",
       "      <td>067973371X</td>\n",
       "      <td>9.780680e+12</td>\n",
       "      <td>Robert A. Caro</td>\n",
       "      <td>1990.0</td>\n",
       "      <td>Means of Ascent</td>\n",
       "      <td>...</td>\n",
       "      <td>12582</td>\n",
       "      <td>12952</td>\n",
       "      <td>395</td>\n",
       "      <td>303</td>\n",
       "      <td>551</td>\n",
       "      <td>1737</td>\n",
       "      <td>3389</td>\n",
       "      <td>6972</td>\n",
       "      <td>https://s.gr-assets.com/assets/nophoto/book/11...</td>\n",
       "      <td>https://s.gr-assets.com/assets/nophoto/book/50...</td>\n",
       "    </tr>\n",
       "    <tr>\n",
       "      <th>9997</th>\n",
       "      <td>9998</td>\n",
       "      <td>77431</td>\n",
       "      <td>77431</td>\n",
       "      <td>2393986</td>\n",
       "      <td>60</td>\n",
       "      <td>039330762X</td>\n",
       "      <td>9.780393e+12</td>\n",
       "      <td>Patrick O'Brian</td>\n",
       "      <td>1977.0</td>\n",
       "      <td>The Mauritius Command</td>\n",
       "      <td>...</td>\n",
       "      <td>9421</td>\n",
       "      <td>10733</td>\n",
       "      <td>374</td>\n",
       "      <td>11</td>\n",
       "      <td>111</td>\n",
       "      <td>1191</td>\n",
       "      <td>4240</td>\n",
       "      <td>5180</td>\n",
       "      <td>https://images.gr-assets.com/books/1455373531m...</td>\n",
       "      <td>https://images.gr-assets.com/books/1455373531s...</td>\n",
       "    </tr>\n",
       "    <tr>\n",
       "      <th>9998</th>\n",
       "      <td>9999</td>\n",
       "      <td>8565083</td>\n",
       "      <td>8565083</td>\n",
       "      <td>13433613</td>\n",
       "      <td>7</td>\n",
       "      <td>61711527</td>\n",
       "      <td>9.780062e+12</td>\n",
       "      <td>Peggy Orenstein</td>\n",
       "      <td>2011.0</td>\n",
       "      <td>Cinderella Ate My Daughter: Dispatches from th...</td>\n",
       "      <td>...</td>\n",
       "      <td>11279</td>\n",
       "      <td>11994</td>\n",
       "      <td>1988</td>\n",
       "      <td>275</td>\n",
       "      <td>1002</td>\n",
       "      <td>3765</td>\n",
       "      <td>4577</td>\n",
       "      <td>2375</td>\n",
       "      <td>https://images.gr-assets.com/books/1279214118m...</td>\n",
       "      <td>https://images.gr-assets.com/books/1279214118s...</td>\n",
       "    </tr>\n",
       "  </tbody>\n",
       "</table>\n",
       "<p>7860 rows × 23 columns</p>\n",
       "</div>"
      ],
      "text/plain": [
       "      book_id  goodreads_book_id  best_book_id   work_id  books_count  \\\n",
       "0           1            2767052       2767052   2792775          272   \n",
       "1           2                  3             3   4640799          491   \n",
       "2           3              41865         41865   3212258          226   \n",
       "3           4               2657          2657   3275794          487   \n",
       "4           5               4671          4671    245494         1356   \n",
       "...       ...                ...           ...       ...          ...   \n",
       "9994     9995              15613         15613   2764239          199   \n",
       "9995     9996            7130616       7130616   7392860           19   \n",
       "9996     9997             208324        208324   1084709           19   \n",
       "9997     9998              77431         77431   2393986           60   \n",
       "9998     9999            8565083       8565083  13433613            7   \n",
       "\n",
       "            isbn        isbn13                      authors  \\\n",
       "0      439023483  9.780439e+12              Suzanne Collins   \n",
       "1      439554934  9.780440e+12  J.K. Rowling, Mary GrandPré   \n",
       "2      316015849  9.780316e+12              Stephenie Meyer   \n",
       "3       61120081  9.780061e+12                   Harper Lee   \n",
       "4      743273567  9.780743e+12          F. Scott Fitzgerald   \n",
       "...          ...           ...                          ...   \n",
       "9994  1416523723  9.781417e+12              Herman Melville   \n",
       "9995   441019455  9.780441e+12                Ilona Andrews   \n",
       "9996  067973371X  9.780680e+12               Robert A. Caro   \n",
       "9997  039330762X  9.780393e+12              Patrick O'Brian   \n",
       "9998    61711527  9.780062e+12              Peggy Orenstein   \n",
       "\n",
       "      original_publication_year  \\\n",
       "0                        2008.0   \n",
       "1                        1997.0   \n",
       "2                        2005.0   \n",
       "3                        1960.0   \n",
       "4                        1925.0   \n",
       "...                         ...   \n",
       "9994                     1924.0   \n",
       "9995                     2010.0   \n",
       "9996                     1990.0   \n",
       "9997                     1977.0   \n",
       "9998                     2011.0   \n",
       "\n",
       "                                         original_title  ... ratings_count  \\\n",
       "0                                      The Hunger Games  ...       4780653   \n",
       "1              Harry Potter and the Philosopher's Stone  ...       4602479   \n",
       "2                                              Twilight  ...       3866839   \n",
       "3                                 To Kill a Mockingbird  ...       3198671   \n",
       "4                                      The Great Gatsby  ...       2683664   \n",
       "...                                                 ...  ...           ...   \n",
       "9994                                 Billy Budd, Sailor  ...         10866   \n",
       "9995                                         Bayou Moon  ...         17204   \n",
       "9996                                   Means of Ascent   ...         12582   \n",
       "9997                              The Mauritius Command  ...          9421   \n",
       "9998  Cinderella Ate My Daughter: Dispatches from th...  ...         11279   \n",
       "\n",
       "     work_ratings_count  work_text_reviews_count  ratings_1  ratings_2  \\\n",
       "0               4942365                   155254      66715     127936   \n",
       "1               4800065                    75867      75504     101676   \n",
       "2               3916824                    95009     456191     436802   \n",
       "3               3340896                    72586      60427     117415   \n",
       "4               2773745                    51992      86236     197621   \n",
       "...                 ...                      ...        ...        ...   \n",
       "9994              12110                      681       1478       2225   \n",
       "9995              18856                     1180        105        575   \n",
       "9996              12952                      395        303        551   \n",
       "9997              10733                      374         11        111   \n",
       "9998              11994                     1988        275       1002   \n",
       "\n",
       "      ratings_3  ratings_4  ratings_5  \\\n",
       "0        560092    1481305    2706317   \n",
       "1        455024    1156318    3011543   \n",
       "2        793319     875073    1355439   \n",
       "3        446835    1001952    1714267   \n",
       "4        606158     936012     947718   \n",
       "...         ...        ...        ...   \n",
       "9994       3805       2985       1617   \n",
       "9995       3538       7860       6778   \n",
       "9996       1737       3389       6972   \n",
       "9997       1191       4240       5180   \n",
       "9998       3765       4577       2375   \n",
       "\n",
       "                                              image_url  \\\n",
       "0     https://images.gr-assets.com/books/1447303603m...   \n",
       "1     https://images.gr-assets.com/books/1474154022m...   \n",
       "2     https://images.gr-assets.com/books/1361039443m...   \n",
       "3     https://images.gr-assets.com/books/1361975680m...   \n",
       "4     https://images.gr-assets.com/books/1490528560m...   \n",
       "...                                                 ...   \n",
       "9994  https://s.gr-assets.com/assets/nophoto/book/11...   \n",
       "9995  https://images.gr-assets.com/books/1307445460m...   \n",
       "9996  https://s.gr-assets.com/assets/nophoto/book/11...   \n",
       "9997  https://images.gr-assets.com/books/1455373531m...   \n",
       "9998  https://images.gr-assets.com/books/1279214118m...   \n",
       "\n",
       "                                        small_image_url  \n",
       "0     https://images.gr-assets.com/books/1447303603s...  \n",
       "1     https://images.gr-assets.com/books/1474154022s...  \n",
       "2     https://images.gr-assets.com/books/1361039443s...  \n",
       "3     https://images.gr-assets.com/books/1361975680s...  \n",
       "4     https://images.gr-assets.com/books/1490528560s...  \n",
       "...                                                 ...  \n",
       "9994  https://s.gr-assets.com/assets/nophoto/book/50...  \n",
       "9995  https://images.gr-assets.com/books/1307445460s...  \n",
       "9996  https://s.gr-assets.com/assets/nophoto/book/50...  \n",
       "9997  https://images.gr-assets.com/books/1455373531s...  \n",
       "9998  https://images.gr-assets.com/books/1279214118s...  \n",
       "\n",
       "[7860 rows x 23 columns]"
      ]
     },
     "execution_count": 235,
     "metadata": {},
     "output_type": "execute_result"
    }
   ],
   "source": [
    "# Drop missing data in the books dataset\n",
    "\n",
    "books_cleaned = books.dropna()\n",
    "books_cleaned"
   ]
  },
  {
   "cell_type": "code",
   "execution_count": 236,
   "metadata": {},
   "outputs": [
    {
     "data": {
      "text/plain": [
       "0"
      ]
     },
     "execution_count": 236,
     "metadata": {},
     "output_type": "execute_result"
    }
   ],
   "source": [
    "# Check for duplicate data in the rtaings dataset\n",
    "\n",
    "duplicates_rates = ratings.duplicated().sum()\n",
    "duplicates_rates"
   ]
  },
  {
   "cell_type": "code",
   "execution_count": 237,
   "metadata": {},
   "outputs": [
    {
     "data": {
      "text/plain": [
       "0"
      ]
     },
     "execution_count": 237,
     "metadata": {},
     "output_type": "execute_result"
    }
   ],
   "source": [
    "# Check for duplicate data in the books dataset\n",
    "\n",
    "duplicates_books = books_cleaned.duplicated().sum()\n",
    "duplicates_books"
   ]
  },
  {
   "cell_type": "code",
   "execution_count": 238,
   "metadata": {},
   "outputs": [
    {
     "data": {
      "text/html": [
       "<div>\n",
       "<style scoped>\n",
       "    .dataframe tbody tr th:only-of-type {\n",
       "        vertical-align: middle;\n",
       "    }\n",
       "\n",
       "    .dataframe tbody tr th {\n",
       "        vertical-align: top;\n",
       "    }\n",
       "\n",
       "    .dataframe thead th {\n",
       "        text-align: right;\n",
       "    }\n",
       "</style>\n",
       "<table border=\"1\" class=\"dataframe\">\n",
       "  <thead>\n",
       "    <tr style=\"text-align: right;\">\n",
       "      <th></th>\n",
       "      <th>book_id</th>\n",
       "      <th>goodreads_book_id</th>\n",
       "      <th>best_book_id</th>\n",
       "      <th>work_id</th>\n",
       "      <th>books_count</th>\n",
       "      <th>isbn</th>\n",
       "      <th>isbn13</th>\n",
       "      <th>authors</th>\n",
       "      <th>original_publication_year</th>\n",
       "      <th>original_title</th>\n",
       "      <th>...</th>\n",
       "      <th>ratings_count</th>\n",
       "      <th>work_ratings_count</th>\n",
       "      <th>work_text_reviews_count</th>\n",
       "      <th>ratings_1</th>\n",
       "      <th>ratings_2</th>\n",
       "      <th>ratings_3</th>\n",
       "      <th>ratings_4</th>\n",
       "      <th>ratings_5</th>\n",
       "      <th>image_url</th>\n",
       "      <th>small_image_url</th>\n",
       "    </tr>\n",
       "  </thead>\n",
       "  <tbody>\n",
       "    <tr>\n",
       "      <th>0</th>\n",
       "      <td>1</td>\n",
       "      <td>2767052</td>\n",
       "      <td>2767052</td>\n",
       "      <td>2792775</td>\n",
       "      <td>272</td>\n",
       "      <td>439023483</td>\n",
       "      <td>9.780439e+12</td>\n",
       "      <td>Suzanne Collins</td>\n",
       "      <td>2008.0</td>\n",
       "      <td>The Hunger Games</td>\n",
       "      <td>...</td>\n",
       "      <td>4780653</td>\n",
       "      <td>4942365</td>\n",
       "      <td>155254</td>\n",
       "      <td>66715</td>\n",
       "      <td>127936</td>\n",
       "      <td>560092</td>\n",
       "      <td>1481305</td>\n",
       "      <td>2706317</td>\n",
       "      <td>https://images.gr-assets.com/books/1447303603m...</td>\n",
       "      <td>https://images.gr-assets.com/books/1447303603s...</td>\n",
       "    </tr>\n",
       "    <tr>\n",
       "      <th>1</th>\n",
       "      <td>2</td>\n",
       "      <td>3</td>\n",
       "      <td>3</td>\n",
       "      <td>4640799</td>\n",
       "      <td>491</td>\n",
       "      <td>439554934</td>\n",
       "      <td>9.780440e+12</td>\n",
       "      <td>J.K. Rowling, Mary GrandPré</td>\n",
       "      <td>1997.0</td>\n",
       "      <td>Harry Potter and the Philosopher's Stone</td>\n",
       "      <td>...</td>\n",
       "      <td>4602479</td>\n",
       "      <td>4800065</td>\n",
       "      <td>75867</td>\n",
       "      <td>75504</td>\n",
       "      <td>101676</td>\n",
       "      <td>455024</td>\n",
       "      <td>1156318</td>\n",
       "      <td>3011543</td>\n",
       "      <td>https://images.gr-assets.com/books/1474154022m...</td>\n",
       "      <td>https://images.gr-assets.com/books/1474154022s...</td>\n",
       "    </tr>\n",
       "    <tr>\n",
       "      <th>2</th>\n",
       "      <td>3</td>\n",
       "      <td>41865</td>\n",
       "      <td>41865</td>\n",
       "      <td>3212258</td>\n",
       "      <td>226</td>\n",
       "      <td>316015849</td>\n",
       "      <td>9.780316e+12</td>\n",
       "      <td>Stephenie Meyer</td>\n",
       "      <td>2005.0</td>\n",
       "      <td>Twilight</td>\n",
       "      <td>...</td>\n",
       "      <td>3866839</td>\n",
       "      <td>3916824</td>\n",
       "      <td>95009</td>\n",
       "      <td>456191</td>\n",
       "      <td>436802</td>\n",
       "      <td>793319</td>\n",
       "      <td>875073</td>\n",
       "      <td>1355439</td>\n",
       "      <td>https://images.gr-assets.com/books/1361039443m...</td>\n",
       "      <td>https://images.gr-assets.com/books/1361039443s...</td>\n",
       "    </tr>\n",
       "    <tr>\n",
       "      <th>3</th>\n",
       "      <td>4</td>\n",
       "      <td>2657</td>\n",
       "      <td>2657</td>\n",
       "      <td>3275794</td>\n",
       "      <td>487</td>\n",
       "      <td>61120081</td>\n",
       "      <td>9.780061e+12</td>\n",
       "      <td>Harper Lee</td>\n",
       "      <td>1960.0</td>\n",
       "      <td>To Kill a Mockingbird</td>\n",
       "      <td>...</td>\n",
       "      <td>3198671</td>\n",
       "      <td>3340896</td>\n",
       "      <td>72586</td>\n",
       "      <td>60427</td>\n",
       "      <td>117415</td>\n",
       "      <td>446835</td>\n",
       "      <td>1001952</td>\n",
       "      <td>1714267</td>\n",
       "      <td>https://images.gr-assets.com/books/1361975680m...</td>\n",
       "      <td>https://images.gr-assets.com/books/1361975680s...</td>\n",
       "    </tr>\n",
       "    <tr>\n",
       "      <th>4</th>\n",
       "      <td>5</td>\n",
       "      <td>4671</td>\n",
       "      <td>4671</td>\n",
       "      <td>245494</td>\n",
       "      <td>1356</td>\n",
       "      <td>743273567</td>\n",
       "      <td>9.780743e+12</td>\n",
       "      <td>F. Scott Fitzgerald</td>\n",
       "      <td>1925.0</td>\n",
       "      <td>The Great Gatsby</td>\n",
       "      <td>...</td>\n",
       "      <td>2683664</td>\n",
       "      <td>2773745</td>\n",
       "      <td>51992</td>\n",
       "      <td>86236</td>\n",
       "      <td>197621</td>\n",
       "      <td>606158</td>\n",
       "      <td>936012</td>\n",
       "      <td>947718</td>\n",
       "      <td>https://images.gr-assets.com/books/1490528560m...</td>\n",
       "      <td>https://images.gr-assets.com/books/1490528560s...</td>\n",
       "    </tr>\n",
       "    <tr>\n",
       "      <th>...</th>\n",
       "      <td>...</td>\n",
       "      <td>...</td>\n",
       "      <td>...</td>\n",
       "      <td>...</td>\n",
       "      <td>...</td>\n",
       "      <td>...</td>\n",
       "      <td>...</td>\n",
       "      <td>...</td>\n",
       "      <td>...</td>\n",
       "      <td>...</td>\n",
       "      <td>...</td>\n",
       "      <td>...</td>\n",
       "      <td>...</td>\n",
       "      <td>...</td>\n",
       "      <td>...</td>\n",
       "      <td>...</td>\n",
       "      <td>...</td>\n",
       "      <td>...</td>\n",
       "      <td>...</td>\n",
       "      <td>...</td>\n",
       "      <td>...</td>\n",
       "    </tr>\n",
       "    <tr>\n",
       "      <th>7855</th>\n",
       "      <td>9995</td>\n",
       "      <td>15613</td>\n",
       "      <td>15613</td>\n",
       "      <td>2764239</td>\n",
       "      <td>199</td>\n",
       "      <td>1416523723</td>\n",
       "      <td>9.781417e+12</td>\n",
       "      <td>Herman Melville</td>\n",
       "      <td>1924.0</td>\n",
       "      <td>Billy Budd, Sailor</td>\n",
       "      <td>...</td>\n",
       "      <td>10866</td>\n",
       "      <td>12110</td>\n",
       "      <td>681</td>\n",
       "      <td>1478</td>\n",
       "      <td>2225</td>\n",
       "      <td>3805</td>\n",
       "      <td>2985</td>\n",
       "      <td>1617</td>\n",
       "      <td>https://s.gr-assets.com/assets/nophoto/book/11...</td>\n",
       "      <td>https://s.gr-assets.com/assets/nophoto/book/50...</td>\n",
       "    </tr>\n",
       "    <tr>\n",
       "      <th>7856</th>\n",
       "      <td>9996</td>\n",
       "      <td>7130616</td>\n",
       "      <td>7130616</td>\n",
       "      <td>7392860</td>\n",
       "      <td>19</td>\n",
       "      <td>441019455</td>\n",
       "      <td>9.780441e+12</td>\n",
       "      <td>Ilona Andrews</td>\n",
       "      <td>2010.0</td>\n",
       "      <td>Bayou Moon</td>\n",
       "      <td>...</td>\n",
       "      <td>17204</td>\n",
       "      <td>18856</td>\n",
       "      <td>1180</td>\n",
       "      <td>105</td>\n",
       "      <td>575</td>\n",
       "      <td>3538</td>\n",
       "      <td>7860</td>\n",
       "      <td>6778</td>\n",
       "      <td>https://images.gr-assets.com/books/1307445460m...</td>\n",
       "      <td>https://images.gr-assets.com/books/1307445460s...</td>\n",
       "    </tr>\n",
       "    <tr>\n",
       "      <th>7857</th>\n",
       "      <td>9997</td>\n",
       "      <td>208324</td>\n",
       "      <td>208324</td>\n",
       "      <td>1084709</td>\n",
       "      <td>19</td>\n",
       "      <td>067973371X</td>\n",
       "      <td>9.780680e+12</td>\n",
       "      <td>Robert A. Caro</td>\n",
       "      <td>1990.0</td>\n",
       "      <td>Means of Ascent</td>\n",
       "      <td>...</td>\n",
       "      <td>12582</td>\n",
       "      <td>12952</td>\n",
       "      <td>395</td>\n",
       "      <td>303</td>\n",
       "      <td>551</td>\n",
       "      <td>1737</td>\n",
       "      <td>3389</td>\n",
       "      <td>6972</td>\n",
       "      <td>https://s.gr-assets.com/assets/nophoto/book/11...</td>\n",
       "      <td>https://s.gr-assets.com/assets/nophoto/book/50...</td>\n",
       "    </tr>\n",
       "    <tr>\n",
       "      <th>7858</th>\n",
       "      <td>9998</td>\n",
       "      <td>77431</td>\n",
       "      <td>77431</td>\n",
       "      <td>2393986</td>\n",
       "      <td>60</td>\n",
       "      <td>039330762X</td>\n",
       "      <td>9.780393e+12</td>\n",
       "      <td>Patrick O'Brian</td>\n",
       "      <td>1977.0</td>\n",
       "      <td>The Mauritius Command</td>\n",
       "      <td>...</td>\n",
       "      <td>9421</td>\n",
       "      <td>10733</td>\n",
       "      <td>374</td>\n",
       "      <td>11</td>\n",
       "      <td>111</td>\n",
       "      <td>1191</td>\n",
       "      <td>4240</td>\n",
       "      <td>5180</td>\n",
       "      <td>https://images.gr-assets.com/books/1455373531m...</td>\n",
       "      <td>https://images.gr-assets.com/books/1455373531s...</td>\n",
       "    </tr>\n",
       "    <tr>\n",
       "      <th>7859</th>\n",
       "      <td>9999</td>\n",
       "      <td>8565083</td>\n",
       "      <td>8565083</td>\n",
       "      <td>13433613</td>\n",
       "      <td>7</td>\n",
       "      <td>61711527</td>\n",
       "      <td>9.780062e+12</td>\n",
       "      <td>Peggy Orenstein</td>\n",
       "      <td>2011.0</td>\n",
       "      <td>Cinderella Ate My Daughter: Dispatches from th...</td>\n",
       "      <td>...</td>\n",
       "      <td>11279</td>\n",
       "      <td>11994</td>\n",
       "      <td>1988</td>\n",
       "      <td>275</td>\n",
       "      <td>1002</td>\n",
       "      <td>3765</td>\n",
       "      <td>4577</td>\n",
       "      <td>2375</td>\n",
       "      <td>https://images.gr-assets.com/books/1279214118m...</td>\n",
       "      <td>https://images.gr-assets.com/books/1279214118s...</td>\n",
       "    </tr>\n",
       "  </tbody>\n",
       "</table>\n",
       "<p>7860 rows × 23 columns</p>\n",
       "</div>"
      ],
      "text/plain": [
       "      book_id  goodreads_book_id  best_book_id   work_id  books_count  \\\n",
       "0           1            2767052       2767052   2792775          272   \n",
       "1           2                  3             3   4640799          491   \n",
       "2           3              41865         41865   3212258          226   \n",
       "3           4               2657          2657   3275794          487   \n",
       "4           5               4671          4671    245494         1356   \n",
       "...       ...                ...           ...       ...          ...   \n",
       "7855     9995              15613         15613   2764239          199   \n",
       "7856     9996            7130616       7130616   7392860           19   \n",
       "7857     9997             208324        208324   1084709           19   \n",
       "7858     9998              77431         77431   2393986           60   \n",
       "7859     9999            8565083       8565083  13433613            7   \n",
       "\n",
       "            isbn        isbn13                      authors  \\\n",
       "0      439023483  9.780439e+12              Suzanne Collins   \n",
       "1      439554934  9.780440e+12  J.K. Rowling, Mary GrandPré   \n",
       "2      316015849  9.780316e+12              Stephenie Meyer   \n",
       "3       61120081  9.780061e+12                   Harper Lee   \n",
       "4      743273567  9.780743e+12          F. Scott Fitzgerald   \n",
       "...          ...           ...                          ...   \n",
       "7855  1416523723  9.781417e+12              Herman Melville   \n",
       "7856   441019455  9.780441e+12                Ilona Andrews   \n",
       "7857  067973371X  9.780680e+12               Robert A. Caro   \n",
       "7858  039330762X  9.780393e+12              Patrick O'Brian   \n",
       "7859    61711527  9.780062e+12              Peggy Orenstein   \n",
       "\n",
       "      original_publication_year  \\\n",
       "0                        2008.0   \n",
       "1                        1997.0   \n",
       "2                        2005.0   \n",
       "3                        1960.0   \n",
       "4                        1925.0   \n",
       "...                         ...   \n",
       "7855                     1924.0   \n",
       "7856                     2010.0   \n",
       "7857                     1990.0   \n",
       "7858                     1977.0   \n",
       "7859                     2011.0   \n",
       "\n",
       "                                         original_title  ... ratings_count  \\\n",
       "0                                      The Hunger Games  ...       4780653   \n",
       "1              Harry Potter and the Philosopher's Stone  ...       4602479   \n",
       "2                                              Twilight  ...       3866839   \n",
       "3                                 To Kill a Mockingbird  ...       3198671   \n",
       "4                                      The Great Gatsby  ...       2683664   \n",
       "...                                                 ...  ...           ...   \n",
       "7855                                 Billy Budd, Sailor  ...         10866   \n",
       "7856                                         Bayou Moon  ...         17204   \n",
       "7857                                   Means of Ascent   ...         12582   \n",
       "7858                              The Mauritius Command  ...          9421   \n",
       "7859  Cinderella Ate My Daughter: Dispatches from th...  ...         11279   \n",
       "\n",
       "     work_ratings_count  work_text_reviews_count  ratings_1  ratings_2  \\\n",
       "0               4942365                   155254      66715     127936   \n",
       "1               4800065                    75867      75504     101676   \n",
       "2               3916824                    95009     456191     436802   \n",
       "3               3340896                    72586      60427     117415   \n",
       "4               2773745                    51992      86236     197621   \n",
       "...                 ...                      ...        ...        ...   \n",
       "7855              12110                      681       1478       2225   \n",
       "7856              18856                     1180        105        575   \n",
       "7857              12952                      395        303        551   \n",
       "7858              10733                      374         11        111   \n",
       "7859              11994                     1988        275       1002   \n",
       "\n",
       "      ratings_3  ratings_4  ratings_5  \\\n",
       "0        560092    1481305    2706317   \n",
       "1        455024    1156318    3011543   \n",
       "2        793319     875073    1355439   \n",
       "3        446835    1001952    1714267   \n",
       "4        606158     936012     947718   \n",
       "...         ...        ...        ...   \n",
       "7855       3805       2985       1617   \n",
       "7856       3538       7860       6778   \n",
       "7857       1737       3389       6972   \n",
       "7858       1191       4240       5180   \n",
       "7859       3765       4577       2375   \n",
       "\n",
       "                                              image_url  \\\n",
       "0     https://images.gr-assets.com/books/1447303603m...   \n",
       "1     https://images.gr-assets.com/books/1474154022m...   \n",
       "2     https://images.gr-assets.com/books/1361039443m...   \n",
       "3     https://images.gr-assets.com/books/1361975680m...   \n",
       "4     https://images.gr-assets.com/books/1490528560m...   \n",
       "...                                                 ...   \n",
       "7855  https://s.gr-assets.com/assets/nophoto/book/11...   \n",
       "7856  https://images.gr-assets.com/books/1307445460m...   \n",
       "7857  https://s.gr-assets.com/assets/nophoto/book/11...   \n",
       "7858  https://images.gr-assets.com/books/1455373531m...   \n",
       "7859  https://images.gr-assets.com/books/1279214118m...   \n",
       "\n",
       "                                        small_image_url  \n",
       "0     https://images.gr-assets.com/books/1447303603s...  \n",
       "1     https://images.gr-assets.com/books/1474154022s...  \n",
       "2     https://images.gr-assets.com/books/1361039443s...  \n",
       "3     https://images.gr-assets.com/books/1361975680s...  \n",
       "4     https://images.gr-assets.com/books/1490528560s...  \n",
       "...                                                 ...  \n",
       "7855  https://s.gr-assets.com/assets/nophoto/book/50...  \n",
       "7856  https://images.gr-assets.com/books/1307445460s...  \n",
       "7857  https://s.gr-assets.com/assets/nophoto/book/50...  \n",
       "7858  https://images.gr-assets.com/books/1455373531s...  \n",
       "7859  https://images.gr-assets.com/books/1279214118s...  \n",
       "\n",
       "[7860 rows x 23 columns]"
      ]
     },
     "execution_count": 238,
     "metadata": {},
     "output_type": "execute_result"
    }
   ],
   "source": [
    "books_n = books_cleaned.reset_index(drop=True)\n",
    "books_n"
   ]
  },
  {
   "cell_type": "markdown",
   "metadata": {},
   "source": [
    "### Problem 4: Perform Exploratory Data Analysis (EDA)\n",
    "\n",
    "\n",
    "Examine the data and perform EDA to identify patterns in the data."
   ]
  },
  {
   "cell_type": "code",
   "execution_count": 239,
   "metadata": {},
   "outputs": [
    {
     "data": {
      "text/html": [
       "<div>\n",
       "<style scoped>\n",
       "    .dataframe tbody tr th:only-of-type {\n",
       "        vertical-align: middle;\n",
       "    }\n",
       "\n",
       "    .dataframe tbody tr th {\n",
       "        vertical-align: top;\n",
       "    }\n",
       "\n",
       "    .dataframe thead th {\n",
       "        text-align: right;\n",
       "    }\n",
       "</style>\n",
       "<table border=\"1\" class=\"dataframe\">\n",
       "  <thead>\n",
       "    <tr style=\"text-align: right;\">\n",
       "      <th></th>\n",
       "      <th>title</th>\n",
       "      <th>ratings_count</th>\n",
       "      <th>original_publication_year</th>\n",
       "    </tr>\n",
       "  </thead>\n",
       "  <tbody>\n",
       "    <tr>\n",
       "      <th>0</th>\n",
       "      <td>The Hunger Games (The Hunger Games, #1)</td>\n",
       "      <td>4780653</td>\n",
       "      <td>2008.0</td>\n",
       "    </tr>\n",
       "    <tr>\n",
       "      <th>1</th>\n",
       "      <td>Harry Potter and the Sorcerer's Stone (Harry P...</td>\n",
       "      <td>4602479</td>\n",
       "      <td>1997.0</td>\n",
       "    </tr>\n",
       "    <tr>\n",
       "      <th>2</th>\n",
       "      <td>Twilight (Twilight, #1)</td>\n",
       "      <td>3866839</td>\n",
       "      <td>2005.0</td>\n",
       "    </tr>\n",
       "    <tr>\n",
       "      <th>3</th>\n",
       "      <td>To Kill a Mockingbird</td>\n",
       "      <td>3198671</td>\n",
       "      <td>1960.0</td>\n",
       "    </tr>\n",
       "    <tr>\n",
       "      <th>4</th>\n",
       "      <td>The Great Gatsby</td>\n",
       "      <td>2683664</td>\n",
       "      <td>1925.0</td>\n",
       "    </tr>\n",
       "    <tr>\n",
       "      <th>5</th>\n",
       "      <td>The Fault in Our Stars</td>\n",
       "      <td>2346404</td>\n",
       "      <td>2012.0</td>\n",
       "    </tr>\n",
       "    <tr>\n",
       "      <th>6</th>\n",
       "      <td>The Hobbit</td>\n",
       "      <td>2071616</td>\n",
       "      <td>1937.0</td>\n",
       "    </tr>\n",
       "    <tr>\n",
       "      <th>7</th>\n",
       "      <td>The Catcher in the Rye</td>\n",
       "      <td>2044241</td>\n",
       "      <td>1951.0</td>\n",
       "    </tr>\n",
       "    <tr>\n",
       "      <th>8</th>\n",
       "      <td>Pride and Prejudice</td>\n",
       "      <td>2035490</td>\n",
       "      <td>1813.0</td>\n",
       "    </tr>\n",
       "    <tr>\n",
       "      <th>9</th>\n",
       "      <td>Angels &amp; Demons  (Robert Langdon, #1)</td>\n",
       "      <td>2001311</td>\n",
       "      <td>2000.0</td>\n",
       "    </tr>\n",
       "    <tr>\n",
       "      <th>10</th>\n",
       "      <td>The Diary of a Young Girl</td>\n",
       "      <td>1972666</td>\n",
       "      <td>1947.0</td>\n",
       "    </tr>\n",
       "    <tr>\n",
       "      <th>11</th>\n",
       "      <td>1984</td>\n",
       "      <td>1956832</td>\n",
       "      <td>1949.0</td>\n",
       "    </tr>\n",
       "    <tr>\n",
       "      <th>12</th>\n",
       "      <td>Divergent (Divergent, #1)</td>\n",
       "      <td>1903563</td>\n",
       "      <td>2011.0</td>\n",
       "    </tr>\n",
       "    <tr>\n",
       "      <th>13</th>\n",
       "      <td>Animal Farm</td>\n",
       "      <td>1881700</td>\n",
       "      <td>1945.0</td>\n",
       "    </tr>\n",
       "    <tr>\n",
       "      <th>14</th>\n",
       "      <td>Harry Potter and the Prisoner of Azkaban (Harr...</td>\n",
       "      <td>1832823</td>\n",
       "      <td>1999.0</td>\n",
       "    </tr>\n",
       "    <tr>\n",
       "      <th>15</th>\n",
       "      <td>Catching Fire (The Hunger Games, #2)</td>\n",
       "      <td>1831039</td>\n",
       "      <td>2009.0</td>\n",
       "    </tr>\n",
       "    <tr>\n",
       "      <th>16</th>\n",
       "      <td>The Kite Runner</td>\n",
       "      <td>1813044</td>\n",
       "      <td>2003.0</td>\n",
       "    </tr>\n",
       "    <tr>\n",
       "      <th>17</th>\n",
       "      <td>The Girl with the Dragon Tattoo (Millennium, #1)</td>\n",
       "      <td>1808403</td>\n",
       "      <td>2005.0</td>\n",
       "    </tr>\n",
       "    <tr>\n",
       "      <th>18</th>\n",
       "      <td>Harry Potter and the Chamber of Secrets (Harry...</td>\n",
       "      <td>1779331</td>\n",
       "      <td>1998.0</td>\n",
       "    </tr>\n",
       "    <tr>\n",
       "      <th>19</th>\n",
       "      <td>The Fellowship of the Ring (The Lord of the Ri...</td>\n",
       "      <td>1766803</td>\n",
       "      <td>1954.0</td>\n",
       "    </tr>\n",
       "    <tr>\n",
       "      <th>20</th>\n",
       "      <td>Harry Potter and the Goblet of Fire (Harry Pot...</td>\n",
       "      <td>1753043</td>\n",
       "      <td>2000.0</td>\n",
       "    </tr>\n",
       "    <tr>\n",
       "      <th>21</th>\n",
       "      <td>Harry Potter and the Deathly Hallows (Harry Po...</td>\n",
       "      <td>1746574</td>\n",
       "      <td>2007.0</td>\n",
       "    </tr>\n",
       "    <tr>\n",
       "      <th>22</th>\n",
       "      <td>Harry Potter and the Order of the Phoenix (Har...</td>\n",
       "      <td>1735368</td>\n",
       "      <td>2003.0</td>\n",
       "    </tr>\n",
       "    <tr>\n",
       "      <th>23</th>\n",
       "      <td>Mockingjay (The Hunger Games, #3)</td>\n",
       "      <td>1719760</td>\n",
       "      <td>2010.0</td>\n",
       "    </tr>\n",
       "    <tr>\n",
       "      <th>24</th>\n",
       "      <td>Harry Potter and the Half-Blood Prince (Harry ...</td>\n",
       "      <td>1678823</td>\n",
       "      <td>2005.0</td>\n",
       "    </tr>\n",
       "    <tr>\n",
       "      <th>25</th>\n",
       "      <td>Romeo and Juliet</td>\n",
       "      <td>1628519</td>\n",
       "      <td>1595.0</td>\n",
       "    </tr>\n",
       "    <tr>\n",
       "      <th>26</th>\n",
       "      <td>The Lovely Bones</td>\n",
       "      <td>1605173</td>\n",
       "      <td>2002.0</td>\n",
       "    </tr>\n",
       "    <tr>\n",
       "      <th>27</th>\n",
       "      <td>Lord of the Flies</td>\n",
       "      <td>1605019</td>\n",
       "      <td>1954.0</td>\n",
       "    </tr>\n",
       "    <tr>\n",
       "      <th>28</th>\n",
       "      <td>The Lion, the Witch, and the Wardrobe (Chronic...</td>\n",
       "      <td>1531800</td>\n",
       "      <td>1950.0</td>\n",
       "    </tr>\n",
       "    <tr>\n",
       "      <th>29</th>\n",
       "      <td>The Help</td>\n",
       "      <td>1531753</td>\n",
       "      <td>2009.0</td>\n",
       "    </tr>\n",
       "    <tr>\n",
       "      <th>30</th>\n",
       "      <td>Of Mice and Men</td>\n",
       "      <td>1467496</td>\n",
       "      <td>1937.0</td>\n",
       "    </tr>\n",
       "    <tr>\n",
       "      <th>31</th>\n",
       "      <td>The Da Vinci Code (Robert Langdon, #2)</td>\n",
       "      <td>1447148</td>\n",
       "      <td>2003.0</td>\n",
       "    </tr>\n",
       "    <tr>\n",
       "      <th>32</th>\n",
       "      <td>The Lightning Thief (Percy Jackson and the Oly...</td>\n",
       "      <td>1366265</td>\n",
       "      <td>2005.0</td>\n",
       "    </tr>\n",
       "    <tr>\n",
       "      <th>33</th>\n",
       "      <td>Fifty Shades of Grey (Fifty Shades, #1)</td>\n",
       "      <td>1338493</td>\n",
       "      <td>2011.0</td>\n",
       "    </tr>\n",
       "    <tr>\n",
       "      <th>34</th>\n",
       "      <td>A Game of Thrones (A Song of Ice and Fire, #1)</td>\n",
       "      <td>1319204</td>\n",
       "      <td>1996.0</td>\n",
       "    </tr>\n",
       "    <tr>\n",
       "      <th>35</th>\n",
       "      <td>Memoirs of a Geisha</td>\n",
       "      <td>1300209</td>\n",
       "      <td>1997.0</td>\n",
       "    </tr>\n",
       "    <tr>\n",
       "      <th>36</th>\n",
       "      <td>The Alchemist</td>\n",
       "      <td>1299566</td>\n",
       "      <td>1988.0</td>\n",
       "    </tr>\n",
       "    <tr>\n",
       "      <th>37</th>\n",
       "      <td>The Giver (The Giver, #1)</td>\n",
       "      <td>1296825</td>\n",
       "      <td>1993.0</td>\n",
       "    </tr>\n",
       "    <tr>\n",
       "      <th>38</th>\n",
       "      <td>Little Women (Little Women, #1)</td>\n",
       "      <td>1257121</td>\n",
       "      <td>1868.0</td>\n",
       "    </tr>\n",
       "    <tr>\n",
       "      <th>39</th>\n",
       "      <td>Jane Eyre</td>\n",
       "      <td>1198557</td>\n",
       "      <td>1847.0</td>\n",
       "    </tr>\n",
       "    <tr>\n",
       "      <th>40</th>\n",
       "      <td>Eat, Pray, Love</td>\n",
       "      <td>1181647</td>\n",
       "      <td>2006.0</td>\n",
       "    </tr>\n",
       "    <tr>\n",
       "      <th>41</th>\n",
       "      <td>The Book Thief</td>\n",
       "      <td>1159741</td>\n",
       "      <td>2005.0</td>\n",
       "    </tr>\n",
       "    <tr>\n",
       "      <th>42</th>\n",
       "      <td>City of Bones (The Mortal Instruments, #1)</td>\n",
       "      <td>1154031</td>\n",
       "      <td>2007.0</td>\n",
       "    </tr>\n",
       "    <tr>\n",
       "      <th>43</th>\n",
       "      <td>New Moon (Twilight, #2)</td>\n",
       "      <td>1149630</td>\n",
       "      <td>2006.0</td>\n",
       "    </tr>\n",
       "    <tr>\n",
       "      <th>44</th>\n",
       "      <td>Eclipse (Twilight, #3)</td>\n",
       "      <td>1134511</td>\n",
       "      <td>2007.0</td>\n",
       "    </tr>\n",
       "    <tr>\n",
       "      <th>45</th>\n",
       "      <td>Eragon (The Inheritance Cycle, #1)</td>\n",
       "      <td>1104021</td>\n",
       "      <td>2002.0</td>\n",
       "    </tr>\n",
       "    <tr>\n",
       "      <th>46</th>\n",
       "      <td>Breaking Dawn (Twilight, #4)</td>\n",
       "      <td>1070245</td>\n",
       "      <td>2008.0</td>\n",
       "    </tr>\n",
       "    <tr>\n",
       "      <th>47</th>\n",
       "      <td>Water for Elephants</td>\n",
       "      <td>1068146</td>\n",
       "      <td>2006.0</td>\n",
       "    </tr>\n",
       "    <tr>\n",
       "      <th>48</th>\n",
       "      <td>Charlotte's Web</td>\n",
       "      <td>1064521</td>\n",
       "      <td>1952.0</td>\n",
       "    </tr>\n",
       "    <tr>\n",
       "      <th>49</th>\n",
       "      <td>The Notebook (The Notebook, #1)</td>\n",
       "      <td>1053403</td>\n",
       "      <td>1996.0</td>\n",
       "    </tr>\n",
       "  </tbody>\n",
       "</table>\n",
       "</div>"
      ],
      "text/plain": [
       "                                                title  ratings_count  \\\n",
       "0             The Hunger Games (The Hunger Games, #1)        4780653   \n",
       "1   Harry Potter and the Sorcerer's Stone (Harry P...        4602479   \n",
       "2                             Twilight (Twilight, #1)        3866839   \n",
       "3                               To Kill a Mockingbird        3198671   \n",
       "4                                    The Great Gatsby        2683664   \n",
       "5                              The Fault in Our Stars        2346404   \n",
       "6                                          The Hobbit        2071616   \n",
       "7                              The Catcher in the Rye        2044241   \n",
       "8                                 Pride and Prejudice        2035490   \n",
       "9               Angels & Demons  (Robert Langdon, #1)        2001311   \n",
       "10                          The Diary of a Young Girl        1972666   \n",
       "11                                               1984        1956832   \n",
       "12                          Divergent (Divergent, #1)        1903563   \n",
       "13                                        Animal Farm        1881700   \n",
       "14  Harry Potter and the Prisoner of Azkaban (Harr...        1832823   \n",
       "15               Catching Fire (The Hunger Games, #2)        1831039   \n",
       "16                                    The Kite Runner        1813044   \n",
       "17   The Girl with the Dragon Tattoo (Millennium, #1)        1808403   \n",
       "18  Harry Potter and the Chamber of Secrets (Harry...        1779331   \n",
       "19  The Fellowship of the Ring (The Lord of the Ri...        1766803   \n",
       "20  Harry Potter and the Goblet of Fire (Harry Pot...        1753043   \n",
       "21  Harry Potter and the Deathly Hallows (Harry Po...        1746574   \n",
       "22  Harry Potter and the Order of the Phoenix (Har...        1735368   \n",
       "23                  Mockingjay (The Hunger Games, #3)        1719760   \n",
       "24  Harry Potter and the Half-Blood Prince (Harry ...        1678823   \n",
       "25                                   Romeo and Juliet        1628519   \n",
       "26                                   The Lovely Bones        1605173   \n",
       "27                                  Lord of the Flies        1605019   \n",
       "28  The Lion, the Witch, and the Wardrobe (Chronic...        1531800   \n",
       "29                                           The Help        1531753   \n",
       "30                                    Of Mice and Men        1467496   \n",
       "31             The Da Vinci Code (Robert Langdon, #2)        1447148   \n",
       "32  The Lightning Thief (Percy Jackson and the Oly...        1366265   \n",
       "33            Fifty Shades of Grey (Fifty Shades, #1)        1338493   \n",
       "34     A Game of Thrones (A Song of Ice and Fire, #1)        1319204   \n",
       "35                                Memoirs of a Geisha        1300209   \n",
       "36                                      The Alchemist        1299566   \n",
       "37                          The Giver (The Giver, #1)        1296825   \n",
       "38                    Little Women (Little Women, #1)        1257121   \n",
       "39                                          Jane Eyre        1198557   \n",
       "40                                    Eat, Pray, Love        1181647   \n",
       "41                                     The Book Thief        1159741   \n",
       "42         City of Bones (The Mortal Instruments, #1)        1154031   \n",
       "43                            New Moon (Twilight, #2)        1149630   \n",
       "44                             Eclipse (Twilight, #3)        1134511   \n",
       "45                 Eragon (The Inheritance Cycle, #1)        1104021   \n",
       "46                       Breaking Dawn (Twilight, #4)        1070245   \n",
       "47                                Water for Elephants        1068146   \n",
       "48                                    Charlotte's Web        1064521   \n",
       "49                    The Notebook (The Notebook, #1)        1053403   \n",
       "\n",
       "    original_publication_year  \n",
       "0                      2008.0  \n",
       "1                      1997.0  \n",
       "2                      2005.0  \n",
       "3                      1960.0  \n",
       "4                      1925.0  \n",
       "5                      2012.0  \n",
       "6                      1937.0  \n",
       "7                      1951.0  \n",
       "8                      1813.0  \n",
       "9                      2000.0  \n",
       "10                     1947.0  \n",
       "11                     1949.0  \n",
       "12                     2011.0  \n",
       "13                     1945.0  \n",
       "14                     1999.0  \n",
       "15                     2009.0  \n",
       "16                     2003.0  \n",
       "17                     2005.0  \n",
       "18                     1998.0  \n",
       "19                     1954.0  \n",
       "20                     2000.0  \n",
       "21                     2007.0  \n",
       "22                     2003.0  \n",
       "23                     2010.0  \n",
       "24                     2005.0  \n",
       "25                     1595.0  \n",
       "26                     2002.0  \n",
       "27                     1954.0  \n",
       "28                     1950.0  \n",
       "29                     2009.0  \n",
       "30                     1937.0  \n",
       "31                     2003.0  \n",
       "32                     2005.0  \n",
       "33                     2011.0  \n",
       "34                     1996.0  \n",
       "35                     1997.0  \n",
       "36                     1988.0  \n",
       "37                     1993.0  \n",
       "38                     1868.0  \n",
       "39                     1847.0  \n",
       "40                     2006.0  \n",
       "41                     2005.0  \n",
       "42                     2007.0  \n",
       "43                     2006.0  \n",
       "44                     2007.0  \n",
       "45                     2002.0  \n",
       "46                     2008.0  \n",
       "47                     2006.0  \n",
       "48                     1952.0  \n",
       "49                     1996.0  "
      ]
     },
     "execution_count": 239,
     "metadata": {},
     "output_type": "execute_result"
    }
   ],
   "source": [
    "# Find the top 50 reviewed books\n",
    "\n",
    "frequent_books = books_cleaned[['title', 'ratings_count', 'original_publication_year']].sort_values('ratings_count', ascending = False).reset_index()\n",
    "frequent_books = frequent_books.drop(['index'], axis=1)\n",
    "frequent_books = frequent_books.head(50)\n",
    "frequent_books"
   ]
  },
  {
   "cell_type": "code",
   "execution_count": 240,
   "metadata": {},
   "outputs": [
    {
     "data": {
      "text/html": [
       "<div>\n",
       "<style scoped>\n",
       "    .dataframe tbody tr th:only-of-type {\n",
       "        vertical-align: middle;\n",
       "    }\n",
       "\n",
       "    .dataframe tbody tr th {\n",
       "        vertical-align: top;\n",
       "    }\n",
       "\n",
       "    .dataframe thead th {\n",
       "        text-align: right;\n",
       "    }\n",
       "</style>\n",
       "<table border=\"1\" class=\"dataframe\">\n",
       "  <thead>\n",
       "    <tr style=\"text-align: right;\">\n",
       "      <th></th>\n",
       "      <th>user_id</th>\n",
       "      <th>count</th>\n",
       "    </tr>\n",
       "  </thead>\n",
       "  <tbody>\n",
       "    <tr>\n",
       "      <th>0</th>\n",
       "      <td>30944</td>\n",
       "      <td>200</td>\n",
       "    </tr>\n",
       "    <tr>\n",
       "      <th>1</th>\n",
       "      <td>12874</td>\n",
       "      <td>200</td>\n",
       "    </tr>\n",
       "    <tr>\n",
       "      <th>2</th>\n",
       "      <td>52036</td>\n",
       "      <td>199</td>\n",
       "    </tr>\n",
       "    <tr>\n",
       "      <th>3</th>\n",
       "      <td>12381</td>\n",
       "      <td>199</td>\n",
       "    </tr>\n",
       "    <tr>\n",
       "      <th>4</th>\n",
       "      <td>28158</td>\n",
       "      <td>199</td>\n",
       "    </tr>\n",
       "    <tr>\n",
       "      <th>5</th>\n",
       "      <td>45554</td>\n",
       "      <td>197</td>\n",
       "    </tr>\n",
       "    <tr>\n",
       "      <th>6</th>\n",
       "      <td>6630</td>\n",
       "      <td>197</td>\n",
       "    </tr>\n",
       "    <tr>\n",
       "      <th>7</th>\n",
       "      <td>15604</td>\n",
       "      <td>196</td>\n",
       "    </tr>\n",
       "    <tr>\n",
       "      <th>8</th>\n",
       "      <td>37834</td>\n",
       "      <td>196</td>\n",
       "    </tr>\n",
       "    <tr>\n",
       "      <th>9</th>\n",
       "      <td>19729</td>\n",
       "      <td>196</td>\n",
       "    </tr>\n",
       "    <tr>\n",
       "      <th>10</th>\n",
       "      <td>14372</td>\n",
       "      <td>196</td>\n",
       "    </tr>\n",
       "    <tr>\n",
       "      <th>11</th>\n",
       "      <td>9668</td>\n",
       "      <td>196</td>\n",
       "    </tr>\n",
       "    <tr>\n",
       "      <th>12</th>\n",
       "      <td>24143</td>\n",
       "      <td>196</td>\n",
       "    </tr>\n",
       "    <tr>\n",
       "      <th>13</th>\n",
       "      <td>9806</td>\n",
       "      <td>196</td>\n",
       "    </tr>\n",
       "    <tr>\n",
       "      <th>14</th>\n",
       "      <td>7563</td>\n",
       "      <td>196</td>\n",
       "    </tr>\n",
       "    <tr>\n",
       "      <th>15</th>\n",
       "      <td>33065</td>\n",
       "      <td>195</td>\n",
       "    </tr>\n",
       "    <tr>\n",
       "      <th>16</th>\n",
       "      <td>10509</td>\n",
       "      <td>195</td>\n",
       "    </tr>\n",
       "    <tr>\n",
       "      <th>17</th>\n",
       "      <td>25840</td>\n",
       "      <td>195</td>\n",
       "    </tr>\n",
       "    <tr>\n",
       "      <th>18</th>\n",
       "      <td>38798</td>\n",
       "      <td>195</td>\n",
       "    </tr>\n",
       "    <tr>\n",
       "      <th>19</th>\n",
       "      <td>9731</td>\n",
       "      <td>195</td>\n",
       "    </tr>\n",
       "    <tr>\n",
       "      <th>20</th>\n",
       "      <td>26718</td>\n",
       "      <td>194</td>\n",
       "    </tr>\n",
       "    <tr>\n",
       "      <th>21</th>\n",
       "      <td>10288</td>\n",
       "      <td>194</td>\n",
       "    </tr>\n",
       "    <tr>\n",
       "      <th>22</th>\n",
       "      <td>17566</td>\n",
       "      <td>194</td>\n",
       "    </tr>\n",
       "    <tr>\n",
       "      <th>23</th>\n",
       "      <td>53293</td>\n",
       "      <td>194</td>\n",
       "    </tr>\n",
       "    <tr>\n",
       "      <th>24</th>\n",
       "      <td>32745</td>\n",
       "      <td>194</td>\n",
       "    </tr>\n",
       "    <tr>\n",
       "      <th>25</th>\n",
       "      <td>50999</td>\n",
       "      <td>193</td>\n",
       "    </tr>\n",
       "    <tr>\n",
       "      <th>26</th>\n",
       "      <td>2487</td>\n",
       "      <td>193</td>\n",
       "    </tr>\n",
       "    <tr>\n",
       "      <th>27</th>\n",
       "      <td>3739</td>\n",
       "      <td>193</td>\n",
       "    </tr>\n",
       "    <tr>\n",
       "      <th>28</th>\n",
       "      <td>8167</td>\n",
       "      <td>193</td>\n",
       "    </tr>\n",
       "    <tr>\n",
       "      <th>29</th>\n",
       "      <td>28767</td>\n",
       "      <td>193</td>\n",
       "    </tr>\n",
       "    <tr>\n",
       "      <th>30</th>\n",
       "      <td>32748</td>\n",
       "      <td>193</td>\n",
       "    </tr>\n",
       "    <tr>\n",
       "      <th>31</th>\n",
       "      <td>43602</td>\n",
       "      <td>193</td>\n",
       "    </tr>\n",
       "    <tr>\n",
       "      <th>32</th>\n",
       "      <td>39703</td>\n",
       "      <td>193</td>\n",
       "    </tr>\n",
       "    <tr>\n",
       "      <th>33</th>\n",
       "      <td>23603</td>\n",
       "      <td>193</td>\n",
       "    </tr>\n",
       "    <tr>\n",
       "      <th>34</th>\n",
       "      <td>32305</td>\n",
       "      <td>193</td>\n",
       "    </tr>\n",
       "    <tr>\n",
       "      <th>35</th>\n",
       "      <td>25164</td>\n",
       "      <td>193</td>\n",
       "    </tr>\n",
       "    <tr>\n",
       "      <th>36</th>\n",
       "      <td>24499</td>\n",
       "      <td>193</td>\n",
       "    </tr>\n",
       "    <tr>\n",
       "      <th>37</th>\n",
       "      <td>26145</td>\n",
       "      <td>193</td>\n",
       "    </tr>\n",
       "    <tr>\n",
       "      <th>38</th>\n",
       "      <td>26629</td>\n",
       "      <td>193</td>\n",
       "    </tr>\n",
       "    <tr>\n",
       "      <th>39</th>\n",
       "      <td>49288</td>\n",
       "      <td>193</td>\n",
       "    </tr>\n",
       "    <tr>\n",
       "      <th>40</th>\n",
       "      <td>12471</td>\n",
       "      <td>192</td>\n",
       "    </tr>\n",
       "    <tr>\n",
       "      <th>41</th>\n",
       "      <td>49295</td>\n",
       "      <td>192</td>\n",
       "    </tr>\n",
       "    <tr>\n",
       "      <th>42</th>\n",
       "      <td>49297</td>\n",
       "      <td>192</td>\n",
       "    </tr>\n",
       "    <tr>\n",
       "      <th>43</th>\n",
       "      <td>49289</td>\n",
       "      <td>192</td>\n",
       "    </tr>\n",
       "    <tr>\n",
       "      <th>44</th>\n",
       "      <td>48687</td>\n",
       "      <td>192</td>\n",
       "    </tr>\n",
       "    <tr>\n",
       "      <th>45</th>\n",
       "      <td>6342</td>\n",
       "      <td>192</td>\n",
       "    </tr>\n",
       "    <tr>\n",
       "      <th>46</th>\n",
       "      <td>53292</td>\n",
       "      <td>192</td>\n",
       "    </tr>\n",
       "    <tr>\n",
       "      <th>47</th>\n",
       "      <td>14248</td>\n",
       "      <td>191</td>\n",
       "    </tr>\n",
       "    <tr>\n",
       "      <th>48</th>\n",
       "      <td>38475</td>\n",
       "      <td>191</td>\n",
       "    </tr>\n",
       "    <tr>\n",
       "      <th>49</th>\n",
       "      <td>5645</td>\n",
       "      <td>191</td>\n",
       "    </tr>\n",
       "  </tbody>\n",
       "</table>\n",
       "</div>"
      ],
      "text/plain": [
       "    user_id  count\n",
       "0     30944    200\n",
       "1     12874    200\n",
       "2     52036    199\n",
       "3     12381    199\n",
       "4     28158    199\n",
       "5     45554    197\n",
       "6      6630    197\n",
       "7     15604    196\n",
       "8     37834    196\n",
       "9     19729    196\n",
       "10    14372    196\n",
       "11     9668    196\n",
       "12    24143    196\n",
       "13     9806    196\n",
       "14     7563    196\n",
       "15    33065    195\n",
       "16    10509    195\n",
       "17    25840    195\n",
       "18    38798    195\n",
       "19     9731    195\n",
       "20    26718    194\n",
       "21    10288    194\n",
       "22    17566    194\n",
       "23    53293    194\n",
       "24    32745    194\n",
       "25    50999    193\n",
       "26     2487    193\n",
       "27     3739    193\n",
       "28     8167    193\n",
       "29    28767    193\n",
       "30    32748    193\n",
       "31    43602    193\n",
       "32    39703    193\n",
       "33    23603    193\n",
       "34    32305    193\n",
       "35    25164    193\n",
       "36    24499    193\n",
       "37    26145    193\n",
       "38    26629    193\n",
       "39    49288    193\n",
       "40    12471    192\n",
       "41    49295    192\n",
       "42    49297    192\n",
       "43    49289    192\n",
       "44    48687    192\n",
       "45     6342    192\n",
       "46    53292    192\n",
       "47    14248    191\n",
       "48    38475    191\n",
       "49     5645    191"
      ]
     },
     "execution_count": 240,
     "metadata": {},
     "output_type": "execute_result"
    }
   ],
   "source": [
    "# Find the top 50 reviewers\n",
    "\n",
    "frequent_users = ratings[['user_id']].value_counts().to_frame().reset_index()\n",
    "frequent_users.rename(columns={0:'count'}, inplace=True)\n",
    "frequent_users = frequent_users.head(50)\n",
    "frequent_users"
   ]
  },
  {
   "cell_type": "code",
   "execution_count": 241,
   "metadata": {},
   "outputs": [
    {
     "data": {
      "text/plain": [
       "194.32"
      ]
     },
     "execution_count": 241,
     "metadata": {},
     "output_type": "execute_result"
    }
   ],
   "source": [
    "frequent_users['count'].mean()"
   ]
  },
  {
   "cell_type": "code",
   "execution_count": 242,
   "metadata": {},
   "outputs": [
    {
     "data": {
      "text/plain": [
       "Text(0.5, 1.0, 'Number of times each rating was given')"
      ]
     },
     "execution_count": 242,
     "metadata": {},
     "output_type": "execute_result"
    },
    {
     "data": {
      "image/png": "[encoded data removed]",
      "text/plain": [
       "<Figure size 640x480 with 1 Axes>"
      ]
     },
     "metadata": {},
     "output_type": "display_data"
    }
   ],
   "source": [
    "# Visualize the rating column using a bar plot\n",
    "\n",
    "sns.countplot(x='rating', data=ratings)\n",
    "plt.title('Number of times each rating was given')"
   ]
  },
  {
   "cell_type": "code",
   "execution_count": 243,
   "metadata": {},
   "outputs": [
    {
     "data": {
      "text/plain": [
       "Text(0.5, 1.0, 'Distribution of the average ratings')"
      ]
     },
     "execution_count": 243,
     "metadata": {},
     "output_type": "execute_result"
    },
    {
     "data": {
      "image/png": "[encoded data removed]",
      "text/plain": [
       "<Figure size 640x480 with 1 Axes>"
      ]
     },
     "metadata": {},
     "output_type": "display_data"
    }
   ],
   "source": [
    "# Visualize the distribution of the average ratings\n",
    "\n",
    "sns.histplot(x='average_rating', data=books_cleaned)\n",
    "plt.title('Distribution of the average ratings')"
   ]
  },
  {
   "cell_type": "code",
   "execution_count": 244,
   "metadata": {},
   "outputs": [
    {
     "data": {
      "text/html": [
       "<div>\n",
       "<style scoped>\n",
       "    .dataframe tbody tr th:only-of-type {\n",
       "        vertical-align: middle;\n",
       "    }\n",
       "\n",
       "    .dataframe tbody tr th {\n",
       "        vertical-align: top;\n",
       "    }\n",
       "\n",
       "    .dataframe thead th {\n",
       "        text-align: right;\n",
       "    }\n",
       "</style>\n",
       "<table border=\"1\" class=\"dataframe\">\n",
       "  <thead>\n",
       "    <tr style=\"text-align: right;\">\n",
       "      <th></th>\n",
       "      <th>title</th>\n",
       "      <th>average_rating</th>\n",
       "    </tr>\n",
       "  </thead>\n",
       "  <tbody>\n",
       "    <tr>\n",
       "      <th>0</th>\n",
       "      <td>Harry Potter and the Deathly Hallows (Harry Po...</td>\n",
       "      <td>4.61</td>\n",
       "    </tr>\n",
       "    <tr>\n",
       "      <th>1</th>\n",
       "      <td>Harry Potter and the Half-Blood Prince (Harry ...</td>\n",
       "      <td>4.54</td>\n",
       "    </tr>\n",
       "    <tr>\n",
       "      <th>2</th>\n",
       "      <td>Harry Potter and the Prisoner of Azkaban (Harr...</td>\n",
       "      <td>4.53</td>\n",
       "    </tr>\n",
       "    <tr>\n",
       "      <th>3</th>\n",
       "      <td>Harry Potter and the Goblet of Fire (Harry Pot...</td>\n",
       "      <td>4.53</td>\n",
       "    </tr>\n",
       "    <tr>\n",
       "      <th>4</th>\n",
       "      <td>Harry Potter and the Order of the Phoenix (Har...</td>\n",
       "      <td>4.46</td>\n",
       "    </tr>\n",
       "    <tr>\n",
       "      <th>5</th>\n",
       "      <td>The Help</td>\n",
       "      <td>4.45</td>\n",
       "    </tr>\n",
       "    <tr>\n",
       "      <th>6</th>\n",
       "      <td>A Game of Thrones (A Song of Ice and Fire, #1)</td>\n",
       "      <td>4.45</td>\n",
       "    </tr>\n",
       "    <tr>\n",
       "      <th>7</th>\n",
       "      <td>Harry Potter and the Sorcerer's Stone (Harry P...</td>\n",
       "      <td>4.44</td>\n",
       "    </tr>\n",
       "    <tr>\n",
       "      <th>8</th>\n",
       "      <td>Harry Potter and the Chamber of Secrets (Harry...</td>\n",
       "      <td>4.37</td>\n",
       "    </tr>\n",
       "    <tr>\n",
       "      <th>9</th>\n",
       "      <td>The Book Thief</td>\n",
       "      <td>4.36</td>\n",
       "    </tr>\n",
       "    <tr>\n",
       "      <th>10</th>\n",
       "      <td>The Hunger Games (The Hunger Games, #1)</td>\n",
       "      <td>4.34</td>\n",
       "    </tr>\n",
       "    <tr>\n",
       "      <th>11</th>\n",
       "      <td>The Fellowship of the Ring (The Lord of the Ri...</td>\n",
       "      <td>4.34</td>\n",
       "    </tr>\n",
       "    <tr>\n",
       "      <th>12</th>\n",
       "      <td>Catching Fire (The Hunger Games, #2)</td>\n",
       "      <td>4.30</td>\n",
       "    </tr>\n",
       "    <tr>\n",
       "      <th>13</th>\n",
       "      <td>The Kite Runner</td>\n",
       "      <td>4.26</td>\n",
       "    </tr>\n",
       "    <tr>\n",
       "      <th>14</th>\n",
       "      <td>The Fault in Our Stars</td>\n",
       "      <td>4.26</td>\n",
       "    </tr>\n",
       "    <tr>\n",
       "      <th>15</th>\n",
       "      <td>To Kill a Mockingbird</td>\n",
       "      <td>4.25</td>\n",
       "    </tr>\n",
       "    <tr>\n",
       "      <th>16</th>\n",
       "      <td>The Hobbit</td>\n",
       "      <td>4.25</td>\n",
       "    </tr>\n",
       "    <tr>\n",
       "      <th>17</th>\n",
       "      <td>Pride and Prejudice</td>\n",
       "      <td>4.24</td>\n",
       "    </tr>\n",
       "    <tr>\n",
       "      <th>18</th>\n",
       "      <td>Divergent (Divergent, #1)</td>\n",
       "      <td>4.24</td>\n",
       "    </tr>\n",
       "    <tr>\n",
       "      <th>19</th>\n",
       "      <td>The Lightning Thief (Percy Jackson and the Oly...</td>\n",
       "      <td>4.23</td>\n",
       "    </tr>\n",
       "    <tr>\n",
       "      <th>20</th>\n",
       "      <td>The Lion, the Witch, and the Wardrobe (Chronic...</td>\n",
       "      <td>4.19</td>\n",
       "    </tr>\n",
       "    <tr>\n",
       "      <th>21</th>\n",
       "      <td>Charlotte's Web</td>\n",
       "      <td>4.15</td>\n",
       "    </tr>\n",
       "    <tr>\n",
       "      <th>22</th>\n",
       "      <td>1984</td>\n",
       "      <td>4.14</td>\n",
       "    </tr>\n",
       "    <tr>\n",
       "      <th>23</th>\n",
       "      <td>The Giver (The Giver, #1)</td>\n",
       "      <td>4.12</td>\n",
       "    </tr>\n",
       "    <tr>\n",
       "      <th>24</th>\n",
       "      <td>City of Bones (The Mortal Instruments, #1)</td>\n",
       "      <td>4.12</td>\n",
       "    </tr>\n",
       "  </tbody>\n",
       "</table>\n",
       "</div>"
      ],
      "text/plain": [
       "                                                title  average_rating\n",
       "0   Harry Potter and the Deathly Hallows (Harry Po...            4.61\n",
       "1   Harry Potter and the Half-Blood Prince (Harry ...            4.54\n",
       "2   Harry Potter and the Prisoner of Azkaban (Harr...            4.53\n",
       "3   Harry Potter and the Goblet of Fire (Harry Pot...            4.53\n",
       "4   Harry Potter and the Order of the Phoenix (Har...            4.46\n",
       "5                                            The Help            4.45\n",
       "6      A Game of Thrones (A Song of Ice and Fire, #1)            4.45\n",
       "7   Harry Potter and the Sorcerer's Stone (Harry P...            4.44\n",
       "8   Harry Potter and the Chamber of Secrets (Harry...            4.37\n",
       "9                                      The Book Thief            4.36\n",
       "10            The Hunger Games (The Hunger Games, #1)            4.34\n",
       "11  The Fellowship of the Ring (The Lord of the Ri...            4.34\n",
       "12               Catching Fire (The Hunger Games, #2)            4.30\n",
       "13                                    The Kite Runner            4.26\n",
       "14                             The Fault in Our Stars            4.26\n",
       "15                              To Kill a Mockingbird            4.25\n",
       "16                                         The Hobbit            4.25\n",
       "17                                Pride and Prejudice            4.24\n",
       "18                          Divergent (Divergent, #1)            4.24\n",
       "19  The Lightning Thief (Percy Jackson and the Oly...            4.23\n",
       "20  The Lion, the Witch, and the Wardrobe (Chronic...            4.19\n",
       "21                                    Charlotte's Web            4.15\n",
       "22                                               1984            4.14\n",
       "23                          The Giver (The Giver, #1)            4.12\n",
       "24         City of Bones (The Mortal Instruments, #1)            4.12"
      ]
     },
     "execution_count": 244,
     "metadata": {},
     "output_type": "execute_result"
    }
   ],
   "source": [
    "# Find the 25 highest rated of the top most frequently rated books\n",
    "\n",
    "frequent_books_list = frequent_books['title'].head(50).unique()\n",
    "\n",
    "frequent_books_ratings = books_cleaned.groupby(['title'])[['average_rating']].agg('mean').reset_index()\n",
    "frequent_books_ratings = frequent_books_ratings[frequent_books_ratings['title'].isin(frequent_books_list)]\n",
    "frequent_books_ratings = frequent_books_ratings.sort_values('average_rating', ascending=False)\n",
    "frequent_books_ratings = frequent_books_ratings.reset_index().drop(['index'], axis=1)\n",
    "frequent_books_ratings = frequent_books_ratings.head(25)\n",
    "frequent_books_ratings"
   ]
  },
  {
   "cell_type": "code",
   "execution_count": 245,
   "metadata": {},
   "outputs": [
    {
     "data": {
      "application/vnd.plotly.v1+json": {
       "config": {
        "plotlyServerURL": "https://plot.ly"
       },
       "data": [
        {
         "alignmentgroup": "True",
         "hovertemplate": "average_rating=%{x}<br>title=%{y}<extra></extra>",
         "legendgroup": "",
         "marker": {
          "color": "#636efa",
          "pattern": {
           "shape": ""
          }
         },
         "name": "",
         "offsetgroup": "",
         "orientation": "h",
         "showlegend": false,
         "textposition": "auto",
         "type": "bar",
         "x": [
          4.61,
          4.54,
          4.53,
          4.53,
          4.46,
          4.45,
          4.45,
          4.44,
          4.37,
          4.36,
          4.34,
          4.34,
          4.3,
          4.26,
          4.26,
          4.25,
          4.25,
          4.24,
          4.24,
          4.23,
          4.19,
          4.15,
          4.14,
          4.12,
          4.12
         ],
         "xaxis": "x",
         "y": [
          "Harry Potter and the Deathly Hallows (Harry Potter, #7)",
          "Harry Potter and the Half-Blood Prince (Harry Potter, #6)",
          "Harry Potter and the Prisoner of Azkaban (Harry Potter, #3)",
          "Harry Potter and the Goblet of Fire (Harry Potter, #4)",
          "Harry Potter and the Order of the Phoenix (Harry Potter, #5)",
          "The Help",
          "A Game of Thrones (A Song of Ice and Fire, #1)",
          "Harry Potter and the Sorcerer's Stone (Harry Potter, #1)",
          "Harry Potter and the Chamber of Secrets (Harry Potter, #2)",
          "The Book Thief",
          "The Hunger Games (The Hunger Games, #1)",
          "The Fellowship of the Ring (The Lord of the Rings, #1)",
          "Catching Fire (The Hunger Games, #2)",
          "The Kite Runner",
          "The Fault in Our Stars",
          "To Kill a Mockingbird",
          "The Hobbit",
          "Pride and Prejudice",
          "Divergent (Divergent, #1)",
          "The Lightning Thief (Percy Jackson and the Olympians, #1)",
          "The Lion, the Witch, and the Wardrobe (Chronicles of Narnia, #1)",
          "Charlotte's Web",
          "1984",
          "The Giver (The Giver, #1)",
          "City of Bones (The Mortal Instruments, #1)"
         ],
         "yaxis": "y"
        }
       ],
       "layout": {
        "barmode": "relative",
        "height": 800,
        "legend": {
         "tracegroupgap": 0
        },
        "template": {
         "data": {
          "bar": [
           {
            "error_x": {
             "color": "#2a3f5f"
            },
            "error_y": {
             "color": "#2a3f5f"
            },
            "marker": {
             "line": {
              "color": "#E5ECF6",
              "width": 0.5
             },
             "pattern": {
              "fillmode": "overlay",
              "size": 10,
              "solidity": 0.2
             }
            },
            "type": "bar"
           }
          ],
          "barpolar": [
           {
            "marker": {
             "line": {
              "color": "#E5ECF6",
              "width": 0.5
             },
             "pattern": {
              "fillmode": "overlay",
              "size": 10,
              "solidity": 0.2
             }
            },
            "type": "barpolar"
           }
          ],
          "carpet": [
           {
            "aaxis": {
             "endlinecolor": "#2a3f5f",
             "gridcolor": "white",
             "linecolor": "white",
             "minorgridcolor": "white",
             "startlinecolor": "#2a3f5f"
            },
            "baxis": {
             "endlinecolor": "#2a3f5f",
             "gridcolor": "white",
             "linecolor": "white",
             "minorgridcolor": "white",
             "startlinecolor": "#2a3f5f"
            },
            "type": "carpet"
           }
          ],
          "choropleth": [
           {
            "colorbar": {
             "outlinewidth": 0,
             "ticks": ""
            },
            "type": "choropleth"
           }
          ],
          "contour": [
           {
            "colorbar": {
             "outlinewidth": 0,
             "ticks": ""
            },
            "colorscale": [
             [
              0,
              "#0d0887"
             ],
             [
              0.1111111111111111,
              "#46039f"
             ],
             [
              0.2222222222222222,
              "#7201a8"
             ],
             [
              0.3333333333333333,
              "#9c179e"
             ],
             [
              0.4444444444444444,
              "#bd3786"
             ],
             [
              0.5555555555555556,
              "#d8576b"
             ],
             [
              0.6666666666666666,
              "#ed7953"
             ],
             [
              0.7777777777777778,
              "#fb9f3a"
             ],
             [
              0.8888888888888888,
              "#fdca26"
             ],
             [
              1,
              "#f0f921"
             ]
            ],
            "type": "contour"
           }
          ],
          "contourcarpet": [
           {
            "colorbar": {
             "outlinewidth": 0,
             "ticks": ""
            },
            "type": "contourcarpet"
           }
          ],
          "heatmap": [
           {
            "colorbar": {
             "outlinewidth": 0,
             "ticks": ""
            },
            "colorscale": [
             [
              0,
              "#0d0887"
             ],
             [
              0.1111111111111111,
              "#46039f"
             ],
             [
              0.2222222222222222,
              "#7201a8"
             ],
             [
              0.3333333333333333,
              "#9c179e"
             ],
             [
              0.4444444444444444,
              "#bd3786"
             ],
             [
              0.5555555555555556,
              "#d8576b"
             ],
             [
              0.6666666666666666,
              "#ed7953"
             ],
             [
              0.7777777777777778,
              "#fb9f3a"
             ],
             [
              0.8888888888888888,
              "#fdca26"
             ],
             [
              1,
              "#f0f921"
             ]
            ],
            "type": "heatmap"
           }
          ],
          "heatmapgl": [
           {
            "colorbar": {
             "outlinewidth": 0,
             "ticks": ""
            },
            "colorscale": [
             [
              0,
              "#0d0887"
             ],
             [
              0.1111111111111111,
              "#46039f"
             ],
             [
              0.2222222222222222,
              "#7201a8"
             ],
             [
              0.3333333333333333,
              "#9c179e"
             ],
             [
              0.4444444444444444,
              "#bd3786"
             ],
             [
              0.5555555555555556,
              "#d8576b"
             ],
             [
              0.6666666666666666,
              "#ed7953"
             ],
             [
              0.7777777777777778,
              "#fb9f3a"
             ],
             [
              0.8888888888888888,
              "#fdca26"
             ],
             [
              1,
              "#f0f921"
             ]
            ],
            "type": "heatmapgl"
           }
          ],
          "histogram": [
           {
            "marker": {
             "pattern": {
              "fillmode": "overlay",
              "size": 10,
              "solidity": 0.2
             }
            },
            "type": "histogram"
           }
          ],
          "histogram2d": [
           {
            "colorbar": {
             "outlinewidth": 0,
             "ticks": ""
            },
            "colorscale": [
             [
              0,
              "#0d0887"
             ],
             [
              0.1111111111111111,
              "#46039f"
             ],
             [
              0.2222222222222222,
              "#7201a8"
             ],
             [
              0.3333333333333333,
              "#9c179e"
             ],
             [
              0.4444444444444444,
              "#bd3786"
             ],
             [
              0.5555555555555556,
              "#d8576b"
             ],
             [
              0.6666666666666666,
              "#ed7953"
             ],
             [
              0.7777777777777778,
              "#fb9f3a"
             ],
             [
              0.8888888888888888,
              "#fdca26"
             ],
             [
              1,
              "#f0f921"
             ]
            ],
            "type": "histogram2d"
           }
          ],
          "histogram2dcontour": [
           {
            "colorbar": {
             "outlinewidth": 0,
             "ticks": ""
            },
            "colorscale": [
             [
              0,
              "#0d0887"
             ],
             [
              0.1111111111111111,
              "#46039f"
             ],
             [
              0.2222222222222222,
              "#7201a8"
             ],
             [
              0.3333333333333333,
              "#9c179e"
             ],
             [
              0.4444444444444444,
              "#bd3786"
             ],
             [
              0.5555555555555556,
              "#d8576b"
             ],
             [
              0.6666666666666666,
              "#ed7953"
             ],
             [
              0.7777777777777778,
              "#fb9f3a"
             ],
             [
              0.8888888888888888,
              "#fdca26"
             ],
             [
              1,
              "#f0f921"
             ]
            ],
            "type": "histogram2dcontour"
           }
          ],
          "mesh3d": [
           {
            "colorbar": {
             "outlinewidth": 0,
             "ticks": ""
            },
            "type": "mesh3d"
           }
          ],
          "parcoords": [
           {
            "line": {
             "colorbar": {
              "outlinewidth": 0,
              "ticks": ""
             }
            },
            "type": "parcoords"
           }
          ],
          "pie": [
           {
            "automargin": true,
            "type": "pie"
           }
          ],
          "scatter": [
           {
            "fillpattern": {
             "fillmode": "overlay",
             "size": 10,
             "solidity": 0.2
            },
            "type": "scatter"
           }
          ],
          "scatter3d": [
           {
            "line": {
             "colorbar": {
              "outlinewidth": 0,
              "ticks": ""
             }
            },
            "marker": {
             "colorbar": {
              "outlinewidth": 0,
              "ticks": ""
             }
            },
            "type": "scatter3d"
           }
          ],
          "scattercarpet": [
           {
            "marker": {
             "colorbar": {
              "outlinewidth": 0,
              "ticks": ""
             }
            },
            "type": "scattercarpet"
           }
          ],
          "scattergeo": [
           {
            "marker": {
             "colorbar": {
              "outlinewidth": 0,
              "ticks": ""
             }
            },
            "type": "scattergeo"
           }
          ],
          "scattergl": [
           {
            "marker": {
             "colorbar": {
              "outlinewidth": 0,
              "ticks": ""
             }
            },
            "type": "scattergl"
           }
          ],
          "scattermapbox": [
           {
            "marker": {
             "colorbar": {
              "outlinewidth": 0,
              "ticks": ""
             }
            },
            "type": "scattermapbox"
           }
          ],
          "scatterpolar": [
           {
            "marker": {
             "colorbar": {
              "outlinewidth": 0,
              "ticks": ""
             }
            },
            "type": "scatterpolar"
           }
          ],
          "scatterpolargl": [
           {
            "marker": {
             "colorbar": {
              "outlinewidth": 0,
              "ticks": ""
             }
            },
            "type": "scatterpolargl"
           }
          ],
          "scatterternary": [
           {
            "marker": {
             "colorbar": {
              "outlinewidth": 0,
              "ticks": ""
             }
            },
            "type": "scatterternary"
           }
          ],
          "surface": [
           {
            "colorbar": {
             "outlinewidth": 0,
             "ticks": ""
            },
            "colorscale": [
             [
              0,
              "#0d0887"
             ],
             [
              0.1111111111111111,
              "#46039f"
             ],
             [
              0.2222222222222222,
              "#7201a8"
             ],
             [
              0.3333333333333333,
              "#9c179e"
             ],
             [
              0.4444444444444444,
              "#bd3786"
             ],
             [
              0.5555555555555556,
              "#d8576b"
             ],
             [
              0.6666666666666666,
              "#ed7953"
             ],
             [
              0.7777777777777778,
              "#fb9f3a"
             ],
             [
              0.8888888888888888,
              "#fdca26"
             ],
             [
              1,
              "#f0f921"
             ]
            ],
            "type": "surface"
           }
          ],
          "table": [
           {
            "cells": {
             "fill": {
              "color": "#EBF0F8"
             },
             "line": {
              "color": "white"
             }
            },
            "header": {
             "fill": {
              "color": "#C8D4E3"
             },
             "line": {
              "color": "white"
             }
            },
            "type": "table"
           }
          ]
         },
         "layout": {
          "annotationdefaults": {
           "arrowcolor": "#2a3f5f",
           "arrowhead": 0,
           "arrowwidth": 1
          },
          "autotypenumbers": "strict",
          "coloraxis": {
           "colorbar": {
            "outlinewidth": 0,
            "ticks": ""
           }
          },
          "colorscale": {
           "diverging": [
            [
             0,
             "#8e0152"
            ],
            [
             0.1,
             "#c51b7d"
            ],
            [
             0.2,
             "#de77ae"
            ],
            [
             0.3,
             "#f1b6da"
            ],
            [
             0.4,
             "#fde0ef"
            ],
            [
             0.5,
             "#f7f7f7"
            ],
            [
             0.6,
             "#e6f5d0"
            ],
            [
             0.7,
             "#b8e186"
            ],
            [
             0.8,
             "#7fbc41"
            ],
            [
             0.9,
             "#4d9221"
            ],
            [
             1,
             "#276419"
            ]
           ],
           "sequential": [
            [
             0,
             "#0d0887"
            ],
            [
             0.1111111111111111,
             "#46039f"
            ],
            [
             0.2222222222222222,
             "#7201a8"
            ],
            [
             0.3333333333333333,
             "#9c179e"
            ],
            [
             0.4444444444444444,
             "#bd3786"
            ],
            [
             0.5555555555555556,
             "#d8576b"
            ],
            [
             0.6666666666666666,
             "#ed7953"
            ],
            [
             0.7777777777777778,
             "#fb9f3a"
            ],
            [
             0.8888888888888888,
             "#fdca26"
            ],
            [
             1,
             "#f0f921"
            ]
           ],
           "sequentialminus": [
            [
             0,
             "#0d0887"
            ],
            [
             0.1111111111111111,
             "#46039f"
            ],
            [
             0.2222222222222222,
             "#7201a8"
            ],
            [
             0.3333333333333333,
             "#9c179e"
            ],
            [
             0.4444444444444444,
             "#bd3786"
            ],
            [
             0.5555555555555556,
             "#d8576b"
            ],
            [
             0.6666666666666666,
             "#ed7953"
            ],
            [
             0.7777777777777778,
             "#fb9f3a"
            ],
            [
             0.8888888888888888,
             "#fdca26"
            ],
            [
             1,
             "#f0f921"
            ]
           ]
          },
          "colorway": [
           "#636efa",
           "#EF553B",
           "#00cc96",
           "#ab63fa",
           "#FFA15A",
           "#19d3f3",
           "#FF6692",
           "#B6E880",
           "#FF97FF",
           "#FECB52"
          ],
          "font": {
           "color": "#2a3f5f"
          },
          "geo": {
           "bgcolor": "white",
           "lakecolor": "white",
           "landcolor": "#E5ECF6",
           "showlakes": true,
           "showland": true,
           "subunitcolor": "white"
          },
          "hoverlabel": {
           "align": "left"
          },
          "hovermode": "closest",
          "mapbox": {
           "style": "light"
          },
          "paper_bgcolor": "white",
          "plot_bgcolor": "#E5ECF6",
          "polar": {
           "angularaxis": {
            "gridcolor": "white",
            "linecolor": "white",
            "ticks": ""
           },
           "bgcolor": "#E5ECF6",
           "radialaxis": {
            "gridcolor": "white",
            "linecolor": "white",
            "ticks": ""
           }
          },
          "scene": {
           "xaxis": {
            "backgroundcolor": "#E5ECF6",
            "gridcolor": "white",
            "gridwidth": 2,
            "linecolor": "white",
            "showbackground": true,
            "ticks": "",
            "zerolinecolor": "white"
           },
           "yaxis": {
            "backgroundcolor": "#E5ECF6",
            "gridcolor": "white",
            "gridwidth": 2,
            "linecolor": "white",
            "showbackground": true,
            "ticks": "",
            "zerolinecolor": "white"
           },
           "zaxis": {
            "backgroundcolor": "#E5ECF6",
            "gridcolor": "white",
            "gridwidth": 2,
            "linecolor": "white",
            "showbackground": true,
            "ticks": "",
            "zerolinecolor": "white"
           }
          },
          "shapedefaults": {
           "line": {
            "color": "#2a3f5f"
           }
          },
          "ternary": {
           "aaxis": {
            "gridcolor": "white",
            "linecolor": "white",
            "ticks": ""
           },
           "baxis": {
            "gridcolor": "white",
            "linecolor": "white",
            "ticks": ""
           },
           "bgcolor": "#E5ECF6",
           "caxis": {
            "gridcolor": "white",
            "linecolor": "white",
            "ticks": ""
           }
          },
          "title": {
           "x": 0.05
          },
          "xaxis": {
           "automargin": true,
           "gridcolor": "white",
           "linecolor": "white",
           "ticks": "",
           "title": {
            "standoff": 15
           },
           "zerolinecolor": "white",
           "zerolinewidth": 2
          },
          "yaxis": {
           "automargin": true,
           "gridcolor": "white",
           "linecolor": "white",
           "ticks": "",
           "title": {
            "standoff": 15
           },
           "zerolinecolor": "white",
           "zerolinewidth": 2
          }
         }
        },
        "title": {
         "text": "25 highest rated of the top most frequently rated books"
        },
        "width": 800,
        "xaxis": {
         "anchor": "y",
         "domain": [
          0,
          1
         ],
         "title": {
          "text": "average_rating"
         }
        },
        "yaxis": {
         "anchor": "x",
         "categoryorder": "total ascending",
         "domain": [
          0,
          1
         ],
         "title": {
          "text": "title"
         }
        }
       }
      }
     },
     "metadata": {},
     "output_type": "display_data"
    }
   ],
   "source": [
    "# Plot the 25 highest rated of the top most frequently rated books\n",
    "\n",
    "fig = px.bar(frequent_books_ratings, x='average_rating', y='title', title='25 highest rated of the top most frequently rated books')\n",
    "fig.update_layout(\n",
    "    yaxis={'categoryorder':'total ascending'},\n",
    "    width=800,\n",
    "    height=800\n",
    ")\n",
    "fig.show()"
   ]
  },
  {
   "cell_type": "markdown",
   "metadata": {},
   "source": [
    "### Problem 5: Understanding the Task\n",
    "\n",
    "After examining the description and data, your goal now is to clearly state the *Business Objective* of the task.  State the objective below."
   ]
  },
  {
   "cell_type": "markdown",
   "metadata": {},
   "source": [
    "Goodreads is a social cataloging website that allows people to find and share books. Goodreads users make and read reviews, search for books, create lists of books, create a library catalog, and get book recommendations. Considering Goodreads' purpose is to help its users find enjoyable books to read based on the users' own data and the data of similar users, a good recommendation system is important. The recommendation system ensures that the Goodreads site fulfills its purpose and gives each user unique book recommendations that they will actually enjoy. Goodreads must figure out what type of recommendation system is best for predicting the best recommendations for each user. Using recommendation systems to determine the best model, Goodreads will be able to create unique and accurate algorithms for each user. This would increase customer retention and encourage more people to join Goodreads as accurate recommendations will encourage book readers to use this website to find and share books. "
   ]
  },
  {
   "cell_type": "markdown",
   "metadata": {},
   "source": [
    "### Problem 6: Engineering Features\n",
    "\n",
    "Now that you understand your business objective, we will build a basic model to get started.  Before we can do this, we must work to encode the data. Using just the ratings.csv information features, prepare the features and target column for modeling with appropriate encoding and transformations."
   ]
  },
  {
   "cell_type": "markdown",
   "metadata": {},
   "source": [
    "The title and authors columns of the books dataset is merged into the ratings dataset. This is so that an item profile is built for each book. This will be especially useful for the content-based model. Then the authors and title columns are encoded as the data must be numerical to utilize in the models."
   ]
  },
  {
   "cell_type": "code",
   "execution_count": 246,
   "metadata": {},
   "outputs": [
    {
     "name": "stdout",
     "output_type": "stream",
     "text": [
      "<class 'pandas.core.frame.DataFrame'>\n",
      "RangeIndex: 5976479 entries, 0 to 5976478\n",
      "Data columns (total 3 columns):\n",
      " #   Column   Dtype\n",
      "---  ------   -----\n",
      " 0   user_id  int64\n",
      " 1   book_id  int64\n",
      " 2   rating   int64\n",
      "dtypes: int64(3)\n",
      "memory usage: 136.8 MB\n"
     ]
    }
   ],
   "source": [
    "ratings.info()"
   ]
  },
  {
   "cell_type": "code",
   "execution_count": 247,
   "metadata": {},
   "outputs": [
    {
     "name": "stdout",
     "output_type": "stream",
     "text": [
      "<class 'pandas.core.frame.DataFrame'>\n",
      "RangeIndex: 10000 entries, 0 to 9999\n",
      "Data columns (total 23 columns):\n",
      " #   Column                     Non-Null Count  Dtype  \n",
      "---  ------                     --------------  -----  \n",
      " 0   book_id                    10000 non-null  int64  \n",
      " 1   goodreads_book_id          10000 non-null  int64  \n",
      " 2   best_book_id               10000 non-null  int64  \n",
      " 3   work_id                    10000 non-null  int64  \n",
      " 4   books_count                10000 non-null  int64  \n",
      " 5   isbn                       9300 non-null   object \n",
      " 6   isbn13                     9415 non-null   float64\n",
      " 7   authors                    10000 non-null  object \n",
      " 8   original_publication_year  9979 non-null   float64\n",
      " 9   original_title             9415 non-null   object \n",
      " 10  title                      10000 non-null  object \n",
      " 11  language_code              8916 non-null   object \n",
      " 12  average_rating             10000 non-null  float64\n",
      " 13  ratings_count              10000 non-null  int64  \n",
      " 14  work_ratings_count         10000 non-null  int64  \n",
      " 15  work_text_reviews_count    10000 non-null  int64  \n",
      " 16  ratings_1                  10000 non-null  int64  \n",
      " 17  ratings_2                  10000 non-null  int64  \n",
      " 18  ratings_3                  10000 non-null  int64  \n",
      " 19  ratings_4                  10000 non-null  int64  \n",
      " 20  ratings_5                  10000 non-null  int64  \n",
      " 21  image_url                  10000 non-null  object \n",
      " 22  small_image_url            10000 non-null  object \n",
      "dtypes: float64(3), int64(13), object(7)\n",
      "memory usage: 1.8+ MB\n"
     ]
    }
   ],
   "source": [
    "books.info()"
   ]
  },
  {
   "cell_type": "code",
   "execution_count": 248,
   "metadata": {},
   "outputs": [
    {
     "data": {
      "text/html": [
       "<div>\n",
       "<style scoped>\n",
       "    .dataframe tbody tr th:only-of-type {\n",
       "        vertical-align: middle;\n",
       "    }\n",
       "\n",
       "    .dataframe tbody tr th {\n",
       "        vertical-align: top;\n",
       "    }\n",
       "\n",
       "    .dataframe thead th {\n",
       "        text-align: right;\n",
       "    }\n",
       "</style>\n",
       "<table border=\"1\" class=\"dataframe\">\n",
       "  <thead>\n",
       "    <tr style=\"text-align: right;\">\n",
       "      <th></th>\n",
       "      <th>book_id</th>\n",
       "      <th>authors</th>\n",
       "      <th>title</th>\n",
       "    </tr>\n",
       "  </thead>\n",
       "  <tbody>\n",
       "    <tr>\n",
       "      <th>0</th>\n",
       "      <td>1</td>\n",
       "      <td>Suzanne Collins</td>\n",
       "      <td>The Hunger Games (The Hunger Games, #1)</td>\n",
       "    </tr>\n",
       "    <tr>\n",
       "      <th>1</th>\n",
       "      <td>2</td>\n",
       "      <td>J.K. Rowling, Mary GrandPré</td>\n",
       "      <td>Harry Potter and the Sorcerer's Stone (Harry P...</td>\n",
       "    </tr>\n",
       "    <tr>\n",
       "      <th>2</th>\n",
       "      <td>3</td>\n",
       "      <td>Stephenie Meyer</td>\n",
       "      <td>Twilight (Twilight, #1)</td>\n",
       "    </tr>\n",
       "    <tr>\n",
       "      <th>3</th>\n",
       "      <td>4</td>\n",
       "      <td>Harper Lee</td>\n",
       "      <td>To Kill a Mockingbird</td>\n",
       "    </tr>\n",
       "    <tr>\n",
       "      <th>4</th>\n",
       "      <td>5</td>\n",
       "      <td>F. Scott Fitzgerald</td>\n",
       "      <td>The Great Gatsby</td>\n",
       "    </tr>\n",
       "  </tbody>\n",
       "</table>\n",
       "</div>"
      ],
      "text/plain": [
       "   book_id                      authors  \\\n",
       "0        1              Suzanne Collins   \n",
       "1        2  J.K. Rowling, Mary GrandPré   \n",
       "2        3              Stephenie Meyer   \n",
       "3        4                   Harper Lee   \n",
       "4        5          F. Scott Fitzgerald   \n",
       "\n",
       "                                               title  \n",
       "0            The Hunger Games (The Hunger Games, #1)  \n",
       "1  Harry Potter and the Sorcerer's Stone (Harry P...  \n",
       "2                            Twilight (Twilight, #1)  \n",
       "3                              To Kill a Mockingbird  \n",
       "4                                   The Great Gatsby  "
      ]
     },
     "execution_count": 248,
     "metadata": {},
     "output_type": "execute_result"
    }
   ],
   "source": [
    "# Create a dataframe of only the needed columns in the books dataset\n",
    "\n",
    "titles_authors = books[['book_id', 'authors', 'title']]\n",
    "titles_authors.head()"
   ]
  },
  {
   "cell_type": "code",
   "execution_count": 249,
   "metadata": {},
   "outputs": [
    {
     "data": {
      "text/html": [
       "<div>\n",
       "<style scoped>\n",
       "    .dataframe tbody tr th:only-of-type {\n",
       "        vertical-align: middle;\n",
       "    }\n",
       "\n",
       "    .dataframe tbody tr th {\n",
       "        vertical-align: top;\n",
       "    }\n",
       "\n",
       "    .dataframe thead th {\n",
       "        text-align: right;\n",
       "    }\n",
       "</style>\n",
       "<table border=\"1\" class=\"dataframe\">\n",
       "  <thead>\n",
       "    <tr style=\"text-align: right;\">\n",
       "      <th></th>\n",
       "      <th>user_id</th>\n",
       "      <th>book_id</th>\n",
       "      <th>rating</th>\n",
       "      <th>authors</th>\n",
       "      <th>title</th>\n",
       "    </tr>\n",
       "  </thead>\n",
       "  <tbody>\n",
       "    <tr>\n",
       "      <th>0</th>\n",
       "      <td>1</td>\n",
       "      <td>258</td>\n",
       "      <td>5</td>\n",
       "      <td>Carlos Ruiz Zafón, Lucia Graves</td>\n",
       "      <td>The Shadow of the Wind (The Cemetery of Forgot...</td>\n",
       "    </tr>\n",
       "    <tr>\n",
       "      <th>1</th>\n",
       "      <td>2</td>\n",
       "      <td>4081</td>\n",
       "      <td>4</td>\n",
       "      <td>Tom Wolfe</td>\n",
       "      <td>I am Charlotte Simmons</td>\n",
       "    </tr>\n",
       "    <tr>\n",
       "      <th>2</th>\n",
       "      <td>2</td>\n",
       "      <td>260</td>\n",
       "      <td>5</td>\n",
       "      <td>Dale Carnegie</td>\n",
       "      <td>How to Win Friends and Influence People</td>\n",
       "    </tr>\n",
       "    <tr>\n",
       "      <th>3</th>\n",
       "      <td>2</td>\n",
       "      <td>9296</td>\n",
       "      <td>5</td>\n",
       "      <td>Alice  Miller, Ruth Ward</td>\n",
       "      <td>The Drama of the Gifted Child: The Search for ...</td>\n",
       "    </tr>\n",
       "    <tr>\n",
       "      <th>4</th>\n",
       "      <td>2</td>\n",
       "      <td>2318</td>\n",
       "      <td>3</td>\n",
       "      <td>Thomas J. Stanley, William D. Danko</td>\n",
       "      <td>The Millionaire Next Door: The Surprising Secr...</td>\n",
       "    </tr>\n",
       "  </tbody>\n",
       "</table>\n",
       "</div>"
      ],
      "text/plain": [
       "   user_id  book_id  rating                              authors  \\\n",
       "0        1      258       5      Carlos Ruiz Zafón, Lucia Graves   \n",
       "1        2     4081       4                            Tom Wolfe   \n",
       "2        2      260       5                        Dale Carnegie   \n",
       "3        2     9296       5             Alice  Miller, Ruth Ward   \n",
       "4        2     2318       3  Thomas J. Stanley, William D. Danko   \n",
       "\n",
       "                                               title  \n",
       "0  The Shadow of the Wind (The Cemetery of Forgot...  \n",
       "1                             I am Charlotte Simmons  \n",
       "2            How to Win Friends and Influence People  \n",
       "3  The Drama of the Gifted Child: The Search for ...  \n",
       "4  The Millionaire Next Door: The Surprising Secr...  "
      ]
     },
     "execution_count": 249,
     "metadata": {},
     "output_type": "execute_result"
    }
   ],
   "source": [
    "# Merge the ratings and titles_authors dataset\n",
    "\n",
    "rated_books = pd.merge(ratings, titles_authors, on='book_id', how='inner')\n",
    "rated_books.head()"
   ]
  },
  {
   "cell_type": "code",
   "execution_count": 250,
   "metadata": {},
   "outputs": [],
   "source": [
    "# Initialize LabelEncoder\n",
    "\n",
    "encoder = LabelEncoder()"
   ]
  },
  {
   "cell_type": "code",
   "execution_count": 251,
   "metadata": {},
   "outputs": [
    {
     "data": {
      "text/html": [
       "<div>\n",
       "<style scoped>\n",
       "    .dataframe tbody tr th:only-of-type {\n",
       "        vertical-align: middle;\n",
       "    }\n",
       "\n",
       "    .dataframe tbody tr th {\n",
       "        vertical-align: top;\n",
       "    }\n",
       "\n",
       "    .dataframe thead th {\n",
       "        text-align: right;\n",
       "    }\n",
       "</style>\n",
       "<table border=\"1\" class=\"dataframe\">\n",
       "  <thead>\n",
       "    <tr style=\"text-align: right;\">\n",
       "      <th></th>\n",
       "      <th>user_id</th>\n",
       "      <th>book_id</th>\n",
       "      <th>rating</th>\n",
       "      <th>authors</th>\n",
       "      <th>title</th>\n",
       "      <th>authors_encoded</th>\n",
       "    </tr>\n",
       "  </thead>\n",
       "  <tbody>\n",
       "    <tr>\n",
       "      <th>0</th>\n",
       "      <td>1</td>\n",
       "      <td>258</td>\n",
       "      <td>5</td>\n",
       "      <td>Carlos Ruiz Zafón, Lucia Graves</td>\n",
       "      <td>The Shadow of the Wind (The Cemetery of Forgot...</td>\n",
       "      <td>641</td>\n",
       "    </tr>\n",
       "    <tr>\n",
       "      <th>1</th>\n",
       "      <td>2</td>\n",
       "      <td>4081</td>\n",
       "      <td>4</td>\n",
       "      <td>Tom Wolfe</td>\n",
       "      <td>I am Charlotte Simmons</td>\n",
       "      <td>4394</td>\n",
       "    </tr>\n",
       "    <tr>\n",
       "      <th>2</th>\n",
       "      <td>2</td>\n",
       "      <td>260</td>\n",
       "      <td>5</td>\n",
       "      <td>Dale Carnegie</td>\n",
       "      <td>How to Win Friends and Influence People</td>\n",
       "      <td>896</td>\n",
       "    </tr>\n",
       "    <tr>\n",
       "      <th>3</th>\n",
       "      <td>2</td>\n",
       "      <td>9296</td>\n",
       "      <td>5</td>\n",
       "      <td>Alice  Miller, Ruth Ward</td>\n",
       "      <td>The Drama of the Gifted Child: The Search for ...</td>\n",
       "      <td>126</td>\n",
       "    </tr>\n",
       "    <tr>\n",
       "      <th>4</th>\n",
       "      <td>2</td>\n",
       "      <td>2318</td>\n",
       "      <td>3</td>\n",
       "      <td>Thomas J. Stanley, William D. Danko</td>\n",
       "      <td>The Millionaire Next Door: The Surprising Secr...</td>\n",
       "      <td>4327</td>\n",
       "    </tr>\n",
       "  </tbody>\n",
       "</table>\n",
       "</div>"
      ],
      "text/plain": [
       "   user_id  book_id  rating                              authors  \\\n",
       "0        1      258       5      Carlos Ruiz Zafón, Lucia Graves   \n",
       "1        2     4081       4                            Tom Wolfe   \n",
       "2        2      260       5                        Dale Carnegie   \n",
       "3        2     9296       5             Alice  Miller, Ruth Ward   \n",
       "4        2     2318       3  Thomas J. Stanley, William D. Danko   \n",
       "\n",
       "                                               title  authors_encoded  \n",
       "0  The Shadow of the Wind (The Cemetery of Forgot...              641  \n",
       "1                             I am Charlotte Simmons             4394  \n",
       "2            How to Win Friends and Influence People              896  \n",
       "3  The Drama of the Gifted Child: The Search for ...              126  \n",
       "4  The Millionaire Next Door: The Surprising Secr...             4327  "
      ]
     },
     "execution_count": 251,
     "metadata": {},
     "output_type": "execute_result"
    }
   ],
   "source": [
    "# Encode the authors column\n",
    "\n",
    "rated_books['authors_encoded'] = encoder.fit_transform(rated_books['authors'])\n",
    "rated_books.head()"
   ]
  },
  {
   "cell_type": "code",
   "execution_count": 252,
   "metadata": {},
   "outputs": [
    {
     "data": {
      "text/html": [
       "<div>\n",
       "<style scoped>\n",
       "    .dataframe tbody tr th:only-of-type {\n",
       "        vertical-align: middle;\n",
       "    }\n",
       "\n",
       "    .dataframe tbody tr th {\n",
       "        vertical-align: top;\n",
       "    }\n",
       "\n",
       "    .dataframe thead th {\n",
       "        text-align: right;\n",
       "    }\n",
       "</style>\n",
       "<table border=\"1\" class=\"dataframe\">\n",
       "  <thead>\n",
       "    <tr style=\"text-align: right;\">\n",
       "      <th></th>\n",
       "      <th>user_id</th>\n",
       "      <th>book_id</th>\n",
       "      <th>rating</th>\n",
       "      <th>authors</th>\n",
       "      <th>title</th>\n",
       "      <th>authors_encoded</th>\n",
       "      <th>title_encoded</th>\n",
       "    </tr>\n",
       "  </thead>\n",
       "  <tbody>\n",
       "    <tr>\n",
       "      <th>0</th>\n",
       "      <td>1</td>\n",
       "      <td>258</td>\n",
       "      <td>5</td>\n",
       "      <td>Carlos Ruiz Zafón, Lucia Graves</td>\n",
       "      <td>The Shadow of the Wind (The Cemetery of Forgot...</td>\n",
       "      <td>641</td>\n",
       "      <td>8452</td>\n",
       "    </tr>\n",
       "    <tr>\n",
       "      <th>1</th>\n",
       "      <td>2</td>\n",
       "      <td>4081</td>\n",
       "      <td>4</td>\n",
       "      <td>Tom Wolfe</td>\n",
       "      <td>I am Charlotte Simmons</td>\n",
       "      <td>4394</td>\n",
       "      <td>3276</td>\n",
       "    </tr>\n",
       "    <tr>\n",
       "      <th>2</th>\n",
       "      <td>2</td>\n",
       "      <td>260</td>\n",
       "      <td>5</td>\n",
       "      <td>Dale Carnegie</td>\n",
       "      <td>How to Win Friends and Influence People</td>\n",
       "      <td>896</td>\n",
       "      <td>3213</td>\n",
       "    </tr>\n",
       "    <tr>\n",
       "      <th>3</th>\n",
       "      <td>2</td>\n",
       "      <td>9296</td>\n",
       "      <td>5</td>\n",
       "      <td>Alice  Miller, Ruth Ward</td>\n",
       "      <td>The Drama of the Gifted Child: The Search for ...</td>\n",
       "      <td>126</td>\n",
       "      <td>6894</td>\n",
       "    </tr>\n",
       "    <tr>\n",
       "      <th>4</th>\n",
       "      <td>2</td>\n",
       "      <td>2318</td>\n",
       "      <td>3</td>\n",
       "      <td>Thomas J. Stanley, William D. Danko</td>\n",
       "      <td>The Millionaire Next Door: The Surprising Secr...</td>\n",
       "      <td>4327</td>\n",
       "      <td>7860</td>\n",
       "    </tr>\n",
       "  </tbody>\n",
       "</table>\n",
       "</div>"
      ],
      "text/plain": [
       "   user_id  book_id  rating                              authors  \\\n",
       "0        1      258       5      Carlos Ruiz Zafón, Lucia Graves   \n",
       "1        2     4081       4                            Tom Wolfe   \n",
       "2        2      260       5                        Dale Carnegie   \n",
       "3        2     9296       5             Alice  Miller, Ruth Ward   \n",
       "4        2     2318       3  Thomas J. Stanley, William D. Danko   \n",
       "\n",
       "                                               title  authors_encoded  \\\n",
       "0  The Shadow of the Wind (The Cemetery of Forgot...              641   \n",
       "1                             I am Charlotte Simmons             4394   \n",
       "2            How to Win Friends and Influence People              896   \n",
       "3  The Drama of the Gifted Child: The Search for ...              126   \n",
       "4  The Millionaire Next Door: The Surprising Secr...             4327   \n",
       "\n",
       "   title_encoded  \n",
       "0           8452  \n",
       "1           3276  \n",
       "2           3213  \n",
       "3           6894  \n",
       "4           7860  "
      ]
     },
     "execution_count": 252,
     "metadata": {},
     "output_type": "execute_result"
    }
   ],
   "source": [
    "# Encode the title column\n",
    "\n",
    "rated_books['title_encoded'] = encoder.fit_transform(rated_books['title'])\n",
    "rated_books.head()"
   ]
  },
  {
   "cell_type": "code",
   "execution_count": 253,
   "metadata": {},
   "outputs": [],
   "source": [
    "# Delete the original authors and title columns\n",
    "\n",
    "rated_books = rated_books.drop(columns=['authors', 'title'])"
   ]
  },
  {
   "cell_type": "code",
   "execution_count": 254,
   "metadata": {},
   "outputs": [
    {
     "data": {
      "text/html": [
       "<div>\n",
       "<style scoped>\n",
       "    .dataframe tbody tr th:only-of-type {\n",
       "        vertical-align: middle;\n",
       "    }\n",
       "\n",
       "    .dataframe tbody tr th {\n",
       "        vertical-align: top;\n",
       "    }\n",
       "\n",
       "    .dataframe thead th {\n",
       "        text-align: right;\n",
       "    }\n",
       "</style>\n",
       "<table border=\"1\" class=\"dataframe\">\n",
       "  <thead>\n",
       "    <tr style=\"text-align: right;\">\n",
       "      <th></th>\n",
       "      <th>index</th>\n",
       "      <th>user_id</th>\n",
       "      <th>book_id</th>\n",
       "      <th>rating</th>\n",
       "      <th>authors_encoded</th>\n",
       "      <th>title_encoded</th>\n",
       "    </tr>\n",
       "  </thead>\n",
       "  <tbody>\n",
       "    <tr>\n",
       "      <th>0</th>\n",
       "      <td>0</td>\n",
       "      <td>1</td>\n",
       "      <td>258</td>\n",
       "      <td>5</td>\n",
       "      <td>641</td>\n",
       "      <td>8452</td>\n",
       "    </tr>\n",
       "    <tr>\n",
       "      <th>1</th>\n",
       "      <td>1</td>\n",
       "      <td>2</td>\n",
       "      <td>4081</td>\n",
       "      <td>4</td>\n",
       "      <td>4394</td>\n",
       "      <td>3276</td>\n",
       "    </tr>\n",
       "    <tr>\n",
       "      <th>2</th>\n",
       "      <td>2</td>\n",
       "      <td>2</td>\n",
       "      <td>260</td>\n",
       "      <td>5</td>\n",
       "      <td>896</td>\n",
       "      <td>3213</td>\n",
       "    </tr>\n",
       "    <tr>\n",
       "      <th>3</th>\n",
       "      <td>3</td>\n",
       "      <td>2</td>\n",
       "      <td>9296</td>\n",
       "      <td>5</td>\n",
       "      <td>126</td>\n",
       "      <td>6894</td>\n",
       "    </tr>\n",
       "    <tr>\n",
       "      <th>4</th>\n",
       "      <td>4</td>\n",
       "      <td>2</td>\n",
       "      <td>2318</td>\n",
       "      <td>3</td>\n",
       "      <td>4327</td>\n",
       "      <td>7860</td>\n",
       "    </tr>\n",
       "  </tbody>\n",
       "</table>\n",
       "</div>"
      ],
      "text/plain": [
       "   index  user_id  book_id  rating  authors_encoded  title_encoded\n",
       "0      0        1      258       5              641           8452\n",
       "1      1        2     4081       4             4394           3276\n",
       "2      2        2      260       5              896           3213\n",
       "3      3        2     9296       5              126           6894\n",
       "4      4        2     2318       3             4327           7860"
      ]
     },
     "execution_count": 254,
     "metadata": {},
     "output_type": "execute_result"
    }
   ],
   "source": [
    "# Reset the index of the rated_books dataset\n",
    "\n",
    "rated_books = rated_books.reset_index()\n",
    "rated_books.head()"
   ]
  },
  {
   "cell_type": "markdown",
   "metadata": {},
   "source": [
    "### Problem 7: Train/Test Split\n",
    "\n",
    "With your data prepared, split it into a train and test set."
   ]
  },
  {
   "cell_type": "code",
   "execution_count": 255,
   "metadata": {},
   "outputs": [],
   "source": [
    "# Split the data into the training sets and test sets\n",
    "\n",
    "X = rated_books[[\"user_id\", \"book_id\", \"authors_encoded\", \"title_encoded\"]]\n",
    "y = rated_books[\"rating\"]\n",
    "\n",
    "X_train, X_test, y_train, y_test = train_test_split(X, y, test_size=0.2, random_state=42)"
   ]
  },
  {
   "cell_type": "code",
   "execution_count": 256,
   "metadata": {},
   "outputs": [],
   "source": [
    "# Reset the indices \n",
    "\n",
    "X_train.reset_index(drop=True, inplace=True)\n",
    "X_test.reset_index(drop=True, inplace=True)"
   ]
  },
  {
   "cell_type": "markdown",
   "metadata": {},
   "source": [
    "### Problem 8: A Popularity-Based Baseline Model\n",
    "\n",
    "Before we build our first model, we want to establish a baseline.  What is the baseline performance that our classifier should aim to beat?"
   ]
  },
  {
   "cell_type": "code",
   "execution_count": 257,
   "metadata": {},
   "outputs": [
    {
     "name": "stdout",
     "output_type": "stream",
     "text": [
      "Baseline training time: 0.040403127670288086 seconds\n"
     ]
    }
   ],
   "source": [
    "# Create a popularity-based Recommendatation System\n",
    "\n",
    "# Record the start time \n",
    "pop_start_time = time.time()\n",
    "\n",
    "# Calculate book popularity \n",
    "book_popularity = X_train.groupby('book_id').size().sort_values(ascending=False)\n",
    "\n",
    "# Get the top most popular books\n",
    "top_popular_books = book_popularity.index.tolist()\n",
    "\n",
    "# Record the end time \n",
    "pop_end_time = time.time()\n",
    "pop_elapsed_time = pop_end_time - pop_start_time\n",
    "print(f\"Baseline training time: {pop_elapsed_time} seconds\")"
   ]
  },
  {
   "cell_type": "code",
   "execution_count": 258,
   "metadata": {},
   "outputs": [],
   "source": [
    "# Baseline model: Make recommendations and define the evaluation model\n",
    "def evaluate_recommendations(X_test, y_test, top_popular_books):\n",
    "    y_true = []\n",
    "    y_pred = []\n",
    "    \n",
    "    for _, row in X_test.iterrows():\n",
    "        y_true.append(row['book_id'])\n",
    "        y_pred.append(top_popular_books[0])\n",
    "    \n",
    "# Precision and Recall evaluation\n",
    "    return precision_score(y_true, y_pred, average='micro'), recall_score(y_true, y_pred, average='micro')\n",
    "\n"
   ]
  },
  {
   "cell_type": "code",
   "execution_count": 259,
   "metadata": {},
   "outputs": [
    {
     "name": "stdout",
     "output_type": "stream",
     "text": [
      "Baseline Precision: 0.0037756338178994995\n",
      "Baseline Recall: 0.0037756338178994995\n"
     ]
    }
   ],
   "source": [
    "# Evaluate the model\n",
    "precision, recall = evaluate_recommendations(X_test, y_test, top_popular_books)\n",
    "\n",
    "print(f'Baseline Precision: {precision}')\n",
    "print(f'Baseline Recall: {recall}')"
   ]
  },
  {
   "cell_type": "markdown",
   "metadata": {},
   "source": [
    "### Problem 9: Content-Based Recommendatation Systems\n",
    "\n",
    "Compare multiple content-based models and find the best performing one to use for the hybrid recomendation system."
   ]
  },
  {
   "cell_type": "markdown",
   "metadata": {},
   "source": [
    "### Create a Random Forests Content-Based Recommendatation System"
   ]
  },
  {
   "cell_type": "code",
   "execution_count": 260,
   "metadata": {},
   "outputs": [
    {
     "name": "stdout",
     "output_type": "stream",
     "text": [
      "Random Forests training time: 10.085728883743286 seconds\n"
     ]
    }
   ],
   "source": [
    "# Create a Random Forests Content-Based Recommendatation System\n",
    "\n",
    "# Record the start time \n",
    "rf_start_time = time.time()\n",
    "\n",
    "# Train and Fit the Model\n",
    "rf_model = RandomForestClassifier(n_estimators=10, max_depth=10, max_features=50, random_state=42, n_jobs=-1)\n",
    "rf_model.fit(X_train, y_train)\n",
    "\n",
    "# Record the end time \n",
    "rf_end_time = time.time()\n",
    "rf_elapsed_time = rf_end_time - rf_start_time\n",
    "print(f\"Random Forests training time: {rf_elapsed_time} seconds\")"
   ]
  },
  {
   "cell_type": "code",
   "execution_count": 261,
   "metadata": {},
   "outputs": [],
   "source": [
    "# Make predictions with the random forests classifier recommendation system\n",
    "\n",
    "rf_pred = rf_model.predict(X_test)"
   ]
  },
  {
   "cell_type": "code",
   "execution_count": 262,
   "metadata": {},
   "outputs": [
    {
     "name": "stdout",
     "output_type": "stream",
     "text": [
      "True categories: 3623535    Medium\n",
      "3985638      High\n",
      "2983642      High\n",
      "5812251       Low\n",
      "2208852      High\n",
      "            ...  \n",
      "5145558      High\n",
      "2509373      High\n",
      "1806767      High\n",
      "172718       High\n",
      "622357     Medium\n",
      "Name: rating, Length: 1195296, dtype: object\n",
      "Predicted categories: 0          High\n",
      "1          High\n",
      "2          High\n",
      "3          High\n",
      "4          High\n",
      "           ... \n",
      "1195291    High\n",
      "1195292    High\n",
      "1195293    High\n",
      "1195294    High\n",
      "1195295    High\n",
      "Length: 1195296, dtype: object\n"
     ]
    }
   ],
   "source": [
    "# Define thresholds for rating categories\n",
    "def rating_to_category(rating):\n",
    "    if rating >= 4.0:\n",
    "        return 'High'\n",
    "    elif rating >= 2.5:\n",
    "        return 'Medium'\n",
    "    else:\n",
    "        return 'Low'\n",
    "\n",
    "# Convert true ratings and predicted ratings to categories\n",
    "y_test_categories = y_test.apply(rating_to_category)\n",
    "rf_pred_categories = pd.Series(rf_pred).apply(rating_to_category)\n",
    "\n",
    "print(\"True categories:\", y_test_categories)\n",
    "print(\"Predicted categories:\", rf_pred_categories)"
   ]
  },
  {
   "cell_type": "code",
   "execution_count": 263,
   "metadata": {},
   "outputs": [
    {
     "name": "stdout",
     "output_type": "stream",
     "text": [
      "Random Forests Precision: 0.5769013682253742\n",
      "Random Forests Recall: 0.6889289347575831\n"
     ]
    }
   ],
   "source": [
    "# Evaluate the Random Forests Recommendation System Using Precision and Recall\n",
    "rf_precision = precision_score(y_test_categories, rf_pred_categories, average='weighted', labels=['High', 'Medium', 'Low'])\n",
    "rf_recall = recall_score(y_test_categories, rf_pred_categories, average='weighted', labels=['High', 'Medium', 'Low'])\n",
    "\n",
    "print(f\"Random Forests Precision: {rf_precision}\")\n",
    "print(f\"Random Forests Recall: {rf_recall}\")"
   ]
  },
  {
   "cell_type": "markdown",
   "metadata": {},
   "source": [
    "### Create an ANNOY Content-Based Recommendatation System"
   ]
  },
  {
   "cell_type": "code",
   "execution_count": 264,
   "metadata": {},
   "outputs": [],
   "source": [
    "# Set feture dimensions \n",
    "\n",
    "feature_dim = 2\n",
    "\n",
    "# Normalize features for better distance calculations\n",
    "scaler = MinMaxScaler()\n",
    "X_train[['authors_encoded', 'title_encoded']] = scaler.fit_transform(X_train[['authors_encoded', 'title_encoded']])\n",
    "X_test[['authors_encoded', 'title_encoded']] = scaler.transform(X_test[['authors_encoded', 'title_encoded']])\n"
   ]
  },
  {
   "cell_type": "code",
   "execution_count": 265,
   "metadata": {},
   "outputs": [
    {
     "name": "stdout",
     "output_type": "stream",
     "text": [
      "ANNOY training time: 64.87088990211487 seconds\n"
     ]
    }
   ],
   "source": [
    "# Create and Train an ANNOY Content-Based Recommendatation System\n",
    "\n",
    "# Record the start time \n",
    "ai_start_time = time.time()\n",
    "\n",
    "# Create ANNOY index\n",
    "annoy_index = AnnoyIndex(feature_dim, 'euclidean')\n",
    "\n",
    "# Build ANNOY Index\n",
    "book_to_idx = {} \n",
    "idx_to_book = {} \n",
    "\n",
    "for i, (book_id, row) in enumerate(X_train.set_index('book_id')[['authors_encoded', 'title_encoded']].iterrows()):\n",
    "    annoy_index.add_item(i, row.values)\n",
    "    book_to_idx[book_id] = i\n",
    "    idx_to_book[i] = book_id\n",
    "\n",
    "# Build the index\n",
    "annoy_index.build(10)\n",
    "\n",
    "# Record the end time \n",
    "ai_end_time = time.time()\n",
    "ai_elapsed_time = ai_end_time - ai_start_time\n",
    "print(f\"ANNOY training time: {ai_elapsed_time} seconds\")"
   ]
  },
  {
   "cell_type": "code",
   "execution_count": 266,
   "metadata": {},
   "outputs": [],
   "source": [
    "# Make Predictions with the ANNOY Index\n",
    "def get_top_n_recommendations(book_id, annoy_index, X_train, n=5):\n",
    "    if book_id not in book_to_idx:\n",
    "        return []\n",
    "    \n",
    "    idx = book_to_idx[book_id]\n",
    "    nearest_indices = annoy_index.get_nns_by_item(idx, n+1)[1:]\n",
    "    return [idx_to_book[i] for i in nearest_indices]\n"
   ]
  },
  {
   "cell_type": "code",
   "execution_count": 267,
   "metadata": {},
   "outputs": [
    {
     "name": "stdout",
     "output_type": "stream",
     "text": [
      "ANNOY Average Precision: 0.0019\n",
      "ANNOY Average Recall: 0.0093\n"
     ]
    }
   ],
   "source": [
    "# Evaluate the ANNOY Recommendation System\n",
    "\n",
    "# Set up the Evaluation Metric\n",
    "def evaluate_recommendations(X_test, y_test, annoy_index, X_train, n=5):\n",
    "    precision_list = []\n",
    "    recall_list = []\n",
    "    \n",
    "    for i in X_test.index:\n",
    "        book_id = X_test.at[i, 'book_id']\n",
    "        \n",
    "        # Get top N recommendations\n",
    "        top_n_books = get_top_n_recommendations(book_id, annoy_index, X_train, n)\n",
    "        \n",
    "        # Get user’s liked books (ratings ≥ 4)\n",
    "        liked_books = y_test.iloc[i]\n",
    "\n",
    "        # Convert to NumPy array if needed\n",
    "        if isinstance(liked_books, pd.Series):\n",
    "            liked_books = liked_books.values\n",
    "\n",
    "        # Use boolean filtering instead of np.where()\n",
    "        liked_books = list(liked_books[liked_books >= 4])\n",
    "\n",
    "        # Compute precision and recall\n",
    "        if liked_books:\n",
    "            true_relevance = sum(1 for book in top_n_books if book in liked_books)\n",
    "            precision = true_relevance / len(top_n_books) if top_n_books else 0\n",
    "            recall = true_relevance / len(liked_books) if liked_books else 0\n",
    "        else:\n",
    "            precision = 0\n",
    "            recall = 0\n",
    "        \n",
    "        precision_list.append(precision)\n",
    "        recall_list.append(recall)\n",
    "    \n",
    "    # Compute average precision and recall\n",
    "    avg_precision = np.mean(precision_list)\n",
    "    avg_recall = np.mean(recall_list)\n",
    "    \n",
    "    return avg_precision, avg_recall\n",
    "\n",
    "# Run evaluation\n",
    "avg_precision, avg_recall = evaluate_recommendations(X_test, y_test, annoy_index, X_train, n=5)\n",
    "print(f\"ANNOY Average Precision: {avg_precision:.4f}\")\n",
    "print(f\"ANNOY Average Recall: {avg_recall:.4f}\")"
   ]
  },
  {
   "cell_type": "markdown",
   "metadata": {},
   "source": [
    "### Create a HNSW Content-Based Recommendation System"
   ]
  },
  {
   "cell_type": "code",
   "execution_count": 268,
   "metadata": {},
   "outputs": [],
   "source": [
    "# Remove book_id and user_id from features\n",
    "X_train_filtered = X_train.drop(columns=[\"book_id\", \"user_id\"]).values\n",
    "X_test_filtered = X_test.drop(columns=[\"book_id\", \"user_id\"]).values\n",
    "\n",
    "# Store book IDs separately\n",
    "book_id_train = X_train[\"book_id\"].values  \n",
    "book_id_test = X_test[\"book_id\"].values  \n",
    "\n",
    "# Extract ratings\n",
    "y_train = y_train.values\n",
    "y_test = y_test.values  "
   ]
  },
  {
   "cell_type": "code",
   "execution_count": 269,
   "metadata": {},
   "outputs": [
    {
     "name": "stdout",
     "output_type": "stream",
     "text": [
      "Loaded existing HNSW index.\n",
      "HNSW training time: 15.661234140396118 seconds\n"
     ]
    }
   ],
   "source": [
    "# Create and Train an HNSW Content-Based Recommendatation System\n",
    "\n",
    "# Record the start time \n",
    "hnsw_start_time = time.time()\n",
    "\n",
    "def build_hnsw_index(X_train_filtered):\n",
    "    dim = X_train_filtered.shape[1]\n",
    "    num_elements = X_train_filtered.shape[0] \n",
    "    \n",
    "    # Initialize HNSW index with optimized parameters\n",
    "    hnsw = hnswlib.Index(space=\"l2\", dim=dim)\n",
    "    hnsw.init_index(max_elements=num_elements, ef_construction=100, M=8) \n",
    "    hnsw.add_items(X_train_filtered, np.arange(num_elements)) \n",
    "    \n",
    "    # Optimize query time parameters\n",
    "    hnsw.set_ef(10) \n",
    "    \n",
    "    # Save index for reuse\n",
    "    hnsw.save_index(\"hnsw_index.bin\")\n",
    "    \n",
    "    return hnsw\n",
    "\n",
    "# If the index exists, load it instead of rebuilding\n",
    "try:\n",
    "    hnsw_index = hnswlib.Index(space=\"l2\", dim=X_train_filtered.shape[1])\n",
    "    hnsw_index.load_index(\"hnsw_index.bin\", max_elements=X_train_filtered.shape[0])\n",
    "    print(\"Loaded existing HNSW index.\")\n",
    "except:\n",
    "    print(\"⚠️ No saved index found. Building a new one...\")\n",
    "    hnsw_index = build_hnsw_index(X_train_filtered)\n",
    "\n",
    "# Record the end time \n",
    "hnsw_end_time = time.time()\n",
    "hnsw_elapsed_time = hnsw_end_time - hnsw_start_time\n",
    "print(f\"HNSW training time: {hnsw_elapsed_time} seconds\")"
   ]
  },
  {
   "cell_type": "code",
   "execution_count": 270,
   "metadata": {},
   "outputs": [],
   "source": [
    "# Make Predictions\n",
    "\n",
    "def get_top_n_recommendations(book_vector, hnsw_index, book_id_train, n=5):\n",
    "    labels, _ = hnsw_index.knn_query(book_vector, k=n)\n",
    "    recommended_book_ids = book_id_train[labels.flatten()]\n",
    "    return list(set(recommended_book_ids))"
   ]
  },
  {
   "cell_type": "code",
   "execution_count": 271,
   "metadata": {},
   "outputs": [],
   "source": [
    "# Set up Evaluation\n",
    "\n",
    "def evaluate_hnsw(X_test_filtered, y_test, hnsw_index, book_id_test, book_id_train, n=5):\n",
    "    precision_list = []\n",
    "    recall_list = []\n",
    "    \n",
    "    for i in range(len(X_test_filtered)):\n",
    "        book_vector = X_test_filtered[i].reshape(1, -1)  # Ensure correct shape\n",
    "\n",
    "        # Generate recommendations\n",
    "        top_n_books = get_top_n_recommendations(book_vector, hnsw_index, book_id_train, n)\n",
    "\n",
    "        # Extract user's liked books (rating ≥ 4)\n",
    "        liked_books = [book_id_test[i]] if y_test[i] >= 4 else []  \n",
    "\n",
    "        # Compute Precision and Recall\n",
    "        true_relevance = sum(1 for book in set(top_n_books) if book in liked_books)\n",
    "        precision = true_relevance / len(top_n_books) if len(top_n_books) > 0 else 0\n",
    "        recall = true_relevance / max(len(liked_books), 1)\n",
    "\n",
    "        precision_list.append(precision)\n",
    "        recall_list.append(recall)\n",
    "\n",
    "    return np.mean(precision_list), np.mean(recall_list)"
   ]
  },
  {
   "cell_type": "code",
   "execution_count": 272,
   "metadata": {},
   "outputs": [
    {
     "name": "stdout",
     "output_type": "stream",
     "text": [
      "HNSW Average Precision: 0.5398\n",
      "HNSW Average Recall: 0.5409\n"
     ]
    }
   ],
   "source": [
    "if __name__ == \"__main__\":\n",
    "    # Train HNSW Index\n",
    "    hnsw_index = build_hnsw_index(X_train_filtered)\n",
    "\n",
    "    # Evaluate the model\n",
    "    avg_precision, avg_recall = evaluate_hnsw(X_test_filtered, y_test, hnsw_index, book_id_test, book_id_train, n=5)\n",
    "\n",
    "    # Print results\n",
    "    print(f\"HNSW Average Precision: {avg_precision:.4f}\")\n",
    "    print(f\"HNSW Average Recall: {avg_recall:.4f}\")"
   ]
  },
  {
   "cell_type": "markdown",
   "metadata": {},
   "source": [
    "### Problem 10: Collaborative-Based Recommendatation Systems\n",
    "\n",
    "Compare multiple collaborative-based models and find the best performing one to use for the hybrid recomendation system."
   ]
  },
  {
   "cell_type": "code",
   "execution_count": 273,
   "metadata": {},
   "outputs": [],
   "source": [
    "# Set up the data \n",
    "# Define the reader format for the dataset\n",
    "reader = Reader(rating_scale=(1, 5)) \n",
    "\n",
    "# Ensure y_train and y_test are Pandas Series\n",
    "y_train = pd.Series(y_train, name=\"rating\")\n",
    "y_test = pd.Series(y_test, name=\"rating\")\n",
    "\n",
    "# Reconstruct train dataset\n",
    "train_data = pd.concat([X_train, y_train], axis=1)  \n",
    "\n",
    "data = Dataset.load_from_df(train_data[['user_id', 'book_id', 'rating']], reader)\n",
    "trainset = data.build_full_trainset()\n",
    "\n",
    "# Reconstruct test dataset (Surprise requires a list of (user, item, rating) tuples)\n",
    "test_data = pd.concat([X_test, y_test], axis=1) \n",
    "testset = test_data[['user_id', 'book_id', 'rating']].to_records(index=False).tolist()"
   ]
  },
  {
   "cell_type": "code",
   "execution_count": 274,
   "metadata": {},
   "outputs": [],
   "source": [
    "# Define algorithm classes\n",
    "algo_classes = {\n",
    "    'KNNBasic': KNNBasic,\n",
    "    'SVD': SVD,\n",
    "    'NMF': NMF,\n",
    "    'CoClustering': CoClustering\n",
    "}\n",
    "\n",
    "# Set up algorithm parameters\n",
    "param_dists = {\n",
    "    'KNNBasic': {\n",
    "        'k': randint(20, 41),\n",
    "        'min_k': randint(1, 6),\n",
    "        'sim_options': {\n",
    "            'name': ['msd', 'cosine', 'pearson'],\n",
    "            'user_based': [False, True] \n",
    "        }\n",
    "    },\n",
    "    'SVD': {\n",
    "        'n_factors': randint(50, 151),\n",
    "        'n_epochs': randint(20, 31),\n",
    "        'lr_all': uniform(0.001, 0.01),\n",
    "        'reg_all': uniform(0.02, 0.03)\n",
    "    },\n",
    "    'NMF': {\n",
    "        'n_factors': randint(10, 31),\n",
    "        'n_epochs': randint(20, 51),\n",
    "        'biased': [False, True]\n",
    "    },\n",
    "    'CoClustering': {\n",
    "        'n_cltr_u': randint(3, 8),\n",
    "        'n_cltr_i': randint(3, 8),\n",
    "        'n_epochs': randint(20, 31)\n",
    "    }\n",
    "}"
   ]
  },
  {
   "cell_type": "code",
   "execution_count": 275,
   "metadata": {},
   "outputs": [
    {
     "name": "stdout",
     "output_type": "stream",
     "text": [
      "Computing the pearson similarity matrix...\n",
      "Done computing similarity matrix.\n",
      "Computing the pearson similarity matrix...\n",
      "Done computing similarity matrix.\n",
      "Computing the pearson similarity matrix...\n",
      "Done computing similarity matrix.\n",
      "Computing the pearson similarity matrix...\n",
      "Done computing similarity matrix.\n",
      "Computing the pearson similarity matrix...\n",
      "Done computing similarity matrix.\n",
      "Computing the pearson similarity matrix...\n",
      "Done computing similarity matrix.\n",
      "Computing the cosine similarity matrix...\n",
      "Done computing similarity matrix.\n",
      "Computing the cosine similarity matrix...\n",
      "Done computing similarity matrix.\n",
      "Computing the cosine similarity matrix...\n",
      "Done computing similarity matrix.\n",
      "Computing the pearson similarity matrix...\n",
      "Done computing similarity matrix.\n",
      "Computing the pearson similarity matrix...\n",
      "Done computing similarity matrix.\n",
      "Computing the pearson similarity matrix...\n",
      "Done computing similarity matrix.\n",
      "Computing the pearson similarity matrix...\n",
      "Done computing similarity matrix.\n",
      "Computing the pearson similarity matrix...\n",
      "Done computing similarity matrix.\n",
      "Computing the pearson similarity matrix...\n",
      "Done computing similarity matrix.\n",
      "Best parameters for KNNBasic: {'k': 26, 'min_k': 4, 'sim_options': {'name': 'pearson', 'user_based': False}}\n",
      "Training time for KNNBasic: 0.65 seconds\n",
      "\n",
      "Best parameters for SVD: {'lr_all': 0.0015641157902710028, 'n_epochs': 27, 'n_factors': 79, 'reg_all': 0.026370173320348286}\n",
      "Training time for SVD: 0.55 seconds\n",
      "\n",
      "Best parameters for NMF: {'biased': False, 'n_epochs': 30, 'n_factors': 20}\n",
      "Training time for NMF: 3.46 seconds\n",
      "\n",
      "Best parameters for CoClustering: {'n_cltr_i': 6, 'n_cltr_u': 7, 'n_epochs': 30}\n",
      "Training time for CoClustering: 3.02 seconds\n",
      "\n"
     ]
    }
   ],
   "source": [
    "# Perform randomized search for each algorithm and measure training time\n",
    "best_algorithms = {}\n",
    "training_times = {}\n",
    "testing_times = {}\n",
    "\n",
    "for algo_name, param_dist in param_dists.items():\n",
    "    start_time = time.time()\n",
    "    \n",
    "    # Reduce dataset before training by ensuring only three columns: (user_id, book_id, rating)\n",
    "    small_data = Dataset.load_from_df(train_data[['user_id', 'book_id', 'rating']].sample(n=5000, random_state=42), reader)\n",
    "\n",
    "    # Perform Randomized Search CV with small dataset (before building trainset)\n",
    "    rs = RandomizedSearchCV(algo_classes[algo_name], param_dist, measures=['rmse'], cv=3, n_iter=5, random_state=42, n_jobs=1)\n",
    "    rs.fit(small_data)\n",
    "    \n",
    "    end_time = time.time()\n",
    "    \n",
    "    # Store the best algorithm\n",
    "    best_algorithms[algo_name] = rs.best_estimator['rmse'] \n",
    "    training_times[algo_name] = end_time - start_time\n",
    "    testing_times[algo_name] = 0 \n",
    "    \n",
    "    print(f\"Best parameters for {algo_name}: {rs.best_params['rmse']}\")\n",
    "    print(f\"Training time for {algo_name}: {training_times[algo_name]:.2f} seconds\\n\")"
   ]
  },
  {
   "cell_type": "code",
   "execution_count": 276,
   "metadata": {},
   "outputs": [],
   "source": [
    "# Add SlopeOne as it has no parameters to tune\n",
    "best_algorithms['SlopeOne'] = SlopeOne()\n",
    "training_times['SlopeOne'] = 0\n",
    "testing_times['SlopeOne'] = 0\n",
    "\n",
    "# Perform cross-validation for the best algorithms found and measure training/testing times\n",
    "results = {}"
   ]
  },
  {
   "cell_type": "code",
   "execution_count": 277,
   "metadata": {},
   "outputs": [],
   "source": [
    "# Function to compute precision and recall at k\n",
    "def precision_recall_at_k(predictions, k=5, threshold=4.0):\n",
    "    user_est_true = defaultdict(list)\n",
    "\n",
    "    # Map predictions to each user\n",
    "    for uid, iid, true_r, est, _ in predictions:\n",
    "        user_est_true[uid].append((est, true_r))\n",
    "\n",
    "    precisions = {}\n",
    "    recalls = {}\n",
    "\n",
    "    for uid, user_ratings in user_est_true.items():\n",
    "        # Sort predictions by estimated rating in descending order\n",
    "        user_ratings.sort(key=lambda x: x[0], reverse=True)\n",
    "\n",
    "        # Count relevant items\n",
    "        n_rel = sum((true_r >= threshold) for (_, true_r) in user_ratings)\n",
    "        # Count recommended items in top-k\n",
    "        n_rec_k = sum((true_r >= threshold) for (_, true_r) in user_ratings[:k])\n",
    "\n",
    "        # Precision@K: Proportion of recommended items that are relevant\n",
    "        precisions[uid] = n_rec_k / k if k else 1\n",
    "\n",
    "        # Recall@K: Proportion of relevant items that are recommended\n",
    "        recalls[uid] = n_rec_k / n_rel if n_rel else 1\n",
    "\n",
    "    # Average precision and recall across users\n",
    "    precision = sum(precisions.values()) / len(precisions)\n",
    "    recall = sum(recalls.values()) / len(recalls)\n",
    "\n",
    "    return precision, recall\n"
   ]
  },
  {
   "cell_type": "code",
   "execution_count": 278,
   "metadata": {},
   "outputs": [
    {
     "name": "stdout",
     "output_type": "stream",
     "text": [
      "Evaluating KNNBasic with best parameters...\n",
      "Computing the pearson similarity matrix...\n",
      "Done computing similarity matrix.\n",
      "Precision@5 for KNNBasic: 0.7733\n",
      "Recall@5 for KNNBasic: 0.2838\n",
      "Evaluating SVD with best parameters...\n",
      "Precision@5 for SVD: 0.8117\n",
      "Recall@5 for SVD: 0.3000\n",
      "Evaluating NMF with best parameters...\n",
      "Precision@5 for NMF: 0.7949\n",
      "Recall@5 for NMF: 0.2927\n",
      "Evaluating CoClustering with best parameters...\n",
      "Precision@5 for CoClustering: 0.8097\n",
      "Recall@5 for CoClustering: 0.2985\n",
      "Evaluating SlopeOne with best parameters...\n",
      "Precision@5 for SlopeOne: 0.8185\n",
      "Recall@5 for SlopeOne: 0.3029\n",
      "\n",
      "Optimal Algorithm (Precision): SlopeOne with Precision: 0.8184677011773955\n",
      "Optimal Algorithm (Recall): SlopeOne with Recall: 0.3028933180685249\n",
      "Training time for the optimal algorithm: 0.00 seconds\n",
      "Testing time for the optimal algorithm: 0.00 seconds\n"
     ]
    }
   ],
   "source": [
    "# Evaluate the best algorithms on Precision and Recall\n",
    "results = {}\n",
    "\n",
    "for algo_name, best_algo in best_algorithms.items():\n",
    "    print(f\"Evaluating {algo_name} with best parameters...\")\n",
    "\n",
    "    # Train the model\n",
    "    best_algo.fit(trainset)\n",
    "\n",
    "    # Make predictions on the test set\n",
    "    predictions = best_algo.test(testset)\n",
    "\n",
    "    # Compute precision and recall\n",
    "    precision, recall = precision_recall_at_k(predictions, k=5)\n",
    "\n",
    "    results[algo_name] = {'precision': precision, 'recall': recall}\n",
    "\n",
    "    print(f\"Precision@5 for {algo_name}: {precision:.4f}\")\n",
    "    print(f\"Recall@5 for {algo_name}: {recall:.4f}\")\n",
    "\n",
    "# Find the best algorithms based on Precision and Recall\n",
    "optimal_algo_precision = max(results, key=lambda x: results[x]['precision'])\n",
    "optimal_algo_recall = max(results, key=lambda x: results[x]['recall'])\n",
    "\n",
    "# Print the best algorithms\n",
    "print(\"\\nOptimal Algorithm (Precision):\", optimal_algo_precision, \"with Precision:\", results[optimal_algo_precision]['precision'])\n",
    "print(\"Optimal Algorithm (Recall):\", optimal_algo_recall, \"with Recall:\", results[optimal_algo_recall]['recall'])\n",
    "\n",
    "print(\"Training time for the optimal algorithm: {:.2f} seconds\".format(training_times[optimal_algo_precision]))\n",
    "print(\"Testing time for the optimal algorithm: {:.2f} seconds\".format(testing_times[optimal_algo_precision]))"
   ]
  },
  {
   "cell_type": "code",
   "execution_count": 279,
   "metadata": {},
   "outputs": [
    {
     "name": "stdout",
     "output_type": "stream",
     "text": [
      "      Algorithm  Mean Precision  Mean Recall  Training Time (s)  \\\n",
      "0      KNNBasic        0.773337     0.283849           0.654663   \n",
      "1           SVD        0.811665     0.300002           0.547196   \n",
      "2           NMF        0.794860     0.292728           3.456479   \n",
      "3  CoClustering        0.809677     0.298521           3.016499   \n",
      "4      SlopeOne        0.818468     0.302893           0.000000   \n",
      "\n",
      "   Testing Time (s)  \n",
      "0                 0  \n",
      "1                 0  \n",
      "2                 0  \n",
      "3                 0  \n",
      "4                 0  \n"
     ]
    },
    {
     "data": {
      "image/png": "[encoded data removed]",
      "text/plain": [
       "<Figure size 1000x600 with 2 Axes>"
      ]
     },
     "metadata": {},
     "output_type": "display_data"
    }
   ],
   "source": [
    "# Create a DataFrame to display the precision and recall results\n",
    "df_results = pd.DataFrame({\n",
    "    'Algorithm': list(results.keys()),  # Use algorithms from results\n",
    "    'Mean Precision': [results[algo]['precision'] for algo in results],\n",
    "    'Mean Recall': [results[algo]['recall'] for algo in results],\n",
    "    'Training Time (s)': [training_times.get(algo, 0) for algo in results],\n",
    "    'Testing Time (s)': [testing_times.get(algo, 0) for algo in results]\n",
    "})\n",
    "\n",
    "# Display the DataFrame\n",
    "print(df_results)\n",
    "\n",
    "# Visualization\n",
    "fig, ax1 = plt.subplots(figsize=(10, 6))\n",
    "\n",
    "color = 'tab:blue'\n",
    "ax1.set_xlabel('Algorithm')\n",
    "ax1.set_ylabel('Mean Precision', color=color)\n",
    "ax1.bar(df_results['Algorithm'], df_results['Mean Precision'], color=color, alpha=0.6, label='Mean Precision')\n",
    "ax1.tick_params(axis='y', labelcolor=color)\n",
    "\n",
    "ax2 = ax1.twinx()\n",
    "\n",
    "color = 'tab:red'\n",
    "ax2.set_ylabel('Mean Recall', color=color)  \n",
    "ax2.plot(df_results['Algorithm'], df_results['Mean Recall'], color=color, marker='o', label='Mean Recall')\n",
    "ax2.tick_params(axis='y', labelcolor=color)\n",
    "\n",
    "fig.tight_layout()\n",
    "fig.legend(loc='upper right')\n",
    "plt.title('Algorithm Comparison (Precision and Recall)')\n",
    "plt.show()"
   ]
  },
  {
   "cell_type": "markdown",
   "metadata": {},
   "source": [
    "### SlopeOne Collaborative-Based Recommendation System\n",
    "\n",
    "I've chosen to use the SlopeOne Collaborative-Based Recommendation System for the hybrid recommendation system. Now I will train the SlopeOne model on the entire datatset"
   ]
  },
  {
   "cell_type": "code",
   "execution_count": 280,
   "metadata": {},
   "outputs": [
    {
     "name": "stdout",
     "output_type": "stream",
     "text": [
      "SlopeOne Precision@5: 0.8185\n",
      "SlopeOne Recall@5: 0.3029\n",
      "SlopeOne Training Time: 20.69 seconds\n",
      "SlopeOne training time: 64.03624606132507 seconds\n"
     ]
    }
   ],
   "source": [
    "# Define the reader format for the dataset\n",
    "reader = Reader(rating_scale=(1, 5))  \n",
    "\n",
    "# Ensure y_train and y_test are Pandas Series\n",
    "y_train = pd.Series(y_train, name=\"rating\")\n",
    "y_test = pd.Series(y_test, name=\"rating\")\n",
    "\n",
    "# Reconstruct train dataset (entire dataset)\n",
    "train_data = pd.concat([X_train, y_train], axis=1)  \n",
    "data = Dataset.load_from_df(train_data[['user_id', 'book_id', 'rating']], reader)\n",
    "trainset = data.build_full_trainset()  \n",
    "\n",
    "# Reconstruct test dataset\n",
    "test_data = pd.concat([X_test, y_test], axis=1)  \n",
    "testset = test_data[['user_id', 'book_id', 'rating']].to_records(index=False).tolist()\n",
    "\n",
    "# Initialize and train the SlopeOne model\n",
    "\n",
    "slopeone_start_time = time.time()\n",
    "\n",
    "slopeone = SlopeOne()\n",
    "slopeone.fit(trainset)\n",
    "\n",
    "slopeone_end_time = time.time()\n",
    "slopeone_elapsed_time = slopeone_end_time - slopeone_start_time\n",
    "\n",
    "# Function to compute Precision and Recall @K\n",
    "def precision_recall_at_k(predictions, k=5, threshold=4.0):\n",
    "    user_est_true = defaultdict(list)\n",
    "\n",
    "    # Map predictions to each user\n",
    "    for uid, iid, true_r, est, _ in predictions:\n",
    "        user_est_true[uid].append((est, true_r))\n",
    "\n",
    "    precisions, recalls = {}, {}\n",
    "\n",
    "    for uid, user_ratings in user_est_true.items():\n",
    "        user_ratings.sort(key=lambda x: x[0], reverse=True)\n",
    "\n",
    "        n_rel = sum((true_r >= threshold) for (_, true_r) in user_ratings)\n",
    "        n_rec_k = sum((true_r >= threshold) for (_, true_r) in user_ratings[:k])\n",
    "\n",
    "        precisions[uid] = n_rec_k / k if k else 1\n",
    "        recalls[uid] = n_rec_k / n_rel if n_rel else 1\n",
    "\n",
    "    precision = sum(precisions.values()) / len(precisions)\n",
    "    recall = sum(recalls.values()) / len(recalls)\n",
    "\n",
    "    return precision, recall\n",
    "\n",
    "# Evaluate SlopeOne on the test set\n",
    "testing_start_time = time.time()\n",
    "\n",
    "predictions = slopeone.test(testset)\n",
    "precision, recall = precision_recall_at_k(predictions, k=5)\n",
    "\n",
    "testing_end_time = time.time()\n",
    "testing_elapsed_time = testing_end_time - testing_start_time\n",
    "\n",
    "# Print results\n",
    "print(f\"SlopeOne Precision@5: {precision:.4f}\")\n",
    "print(f\"SlopeOne Recall@5: {recall:.4f}\")\n",
    "print(f\"SlopeOne Training Time: {slopeone_elapsed_time:.2f} seconds\")\n",
    "print(f\"SlopeOne training time: {testing_elapsed_time} seconds\")"
   ]
  },
  {
   "cell_type": "markdown",
   "metadata": {},
   "source": [
    "### Problem 11: Hybrid Recommendatation Systems\n",
    "\n",
    "Compare multiple hybrid models (content and collaborative-based recommendation systems) and find the best performing one for Goodreads to use. I will use the HNSW content-based model and the SlopeOne collaborative-based model"
   ]
  },
  {
   "cell_type": "markdown",
   "metadata": {},
   "source": [
    "### Create a Weighted Hybrid Recommendation System"
   ]
  },
  {
   "cell_type": "code",
   "execution_count": 281,
   "metadata": {},
   "outputs": [
    {
     "name": "stdout",
     "output_type": "stream",
     "text": [
      "Weighted training time: 0.0006527900695800781 seconds\n"
     ]
    }
   ],
   "source": [
    "# Create a weighted hybrid model\n",
    "\n",
    "# Record start time\n",
    "weighted_start_time = time.time()\n",
    "\n",
    "def hybrid_recommender(user_id, book_vector, hnsw_index, book_id_train, slopeone_model, n=5, alpha=0.5):\n",
    "  \n",
    "    # Get More Content-Based Recommendations from HNSW\n",
    "    try:\n",
    "        content_rec_books = get_top_n_recommendations(book_vector, hnsw_index, book_id_train, n * 50)\n",
    "    except Exception as e:\n",
    "        return []\n",
    "\n",
    "    if not content_rec_books:\n",
    "        print(\"No books retrieved from content-based filtering. Using collaborative filtering only.\")\n",
    "        return [slopeone_model.predict(user_id, book_id).iid for book_id in book_id_train[:n]]\n",
    "\n",
    "\n",
    "    # Get Collaborative Scores\n",
    "    collaborative_scores = {}\n",
    "    for book_id in content_rec_books:\n",
    "        pred = slopeone_model.predict(user_id, book_id)\n",
    "        collaborative_scores[book_id] = pred.est if pred else np.mean(list(collaborative_scores.values()))\n",
    "\n",
    "\n",
    "    # Normalize Scores\n",
    "    max_collab = max(collaborative_scores.values(), default=1)\n",
    "    min_collab = min(collaborative_scores.values(), default=1)\n",
    "\n",
    "    if max_collab == min_collab:\n",
    "        normalized_collab_scores = {book_id: 0.5 for book_id in content_rec_books}\n",
    "    else:\n",
    "        normalized_collab_scores = {\n",
    "            book_id: (collaborative_scores[book_id] - min_collab) / (max_collab - min_collab + 1e-6)\n",
    "            for book_id in content_rec_books\n",
    "        }\n",
    "\n",
    "    content_scores = {book_id: 1 - i / len(content_rec_books) for i, book_id in enumerate(content_rec_books)}\n",
    "\n",
    "    hybrid_scores = {\n",
    "        book_id: alpha * content_scores[book_id] + (1 - alpha) * normalized_collab_scores[book_id]\n",
    "        for book_id in content_rec_books\n",
    "    }\n",
    "\n",
    "    # Get Top N Books\n",
    "    sorted_books = sorted(hybrid_scores.items(), key=lambda x: x[1], reverse=True)[:n]\n",
    "    final_recommendations = [book_id for book_id, _ in sorted_books]\n",
    "\n",
    "    return final_recommendations\n",
    "# Record the end time \n",
    "weighted_end_time = time.time()\n",
    "weighted_elapsed_time = weighted_end_time - weighted_start_time\n",
    "print(f\"Weighted training time: {weighted_elapsed_time} seconds\")"
   ]
  },
  {
   "cell_type": "code",
   "execution_count": 282,
   "metadata": {},
   "outputs": [
    {
     "name": "stdout",
     "output_type": "stream",
     "text": [
      "Weighted Hybrid Model Precision: 0.3670\n",
      "Weighted Hybrid Model Recall: 0.5320\n"
     ]
    }
   ],
   "source": [
    "# Evaluate the weighted model\n",
    "\n",
    "def evaluate_hybrid_optimized(\n",
    "    X_test_filtered, y_test, user_ids, hnsw_index, book_id_train, slopeone_model, \n",
    "    n=5, alpha=0.5, sample_size=1000 \n",
    "):\n",
    "    precision_list = []\n",
    "    recall_list = []\n",
    "    \n",
    "    indices = random.sample(range(len(X_test_filtered)), min(sample_size, len(X_test_filtered)))\n",
    "\n",
    "    for i in indices:\n",
    "        user_id = user_ids[i] \n",
    "        book_vector = X_test_filtered[i].reshape(1, -1)  \n",
    "\n",
    "        # Generate Hybrid Recommendations\n",
    "        top_n_books = hybrid_recommender(user_id, book_vector, hnsw_index, book_id_train, slopeone_model, n, alpha)\n",
    "\n",
    "        # Extract User's Liked Books (rating ≥ 4)\n",
    "        liked_books = [book_id_test[i]] if y_test[i] >= 4 else []\n",
    "\n",
    "        # Compute Precision and Recall\n",
    "        true_relevance = sum(1 for book in set(top_n_books) if book in liked_books)\n",
    "        precision = true_relevance / len(top_n_books) if len(top_n_books) > 0 else 0\n",
    "        recall = true_relevance / max(len(liked_books), 1)\n",
    "\n",
    "        precision_list.append(precision)\n",
    "        recall_list.append(recall)\n",
    "\n",
    "    return np.mean(precision_list), np.mean(recall_list)\n",
    "\n",
    "\n",
    "# Run Optimized Evaluation\n",
    "avg_precision, avg_recall = evaluate_hybrid_optimized(\n",
    "    X_test_filtered, y_test, X_test[\"user_id\"].values, hnsw_index, book_id_train, slopeone, \n",
    "    n=5, alpha=0.5, sample_size=1000 \n",
    ")\n",
    "\n",
    "# Print Results\n",
    "print(f\"Weighted Hybrid Model Precision: {avg_precision:.4f}\")\n",
    "print(f\"Weighted Hybrid Model Recall: {avg_recall:.4f}\")"
   ]
  },
  {
   "cell_type": "markdown",
   "metadata": {},
   "source": [
    "### Create a Switching Hybrid Recommendation System"
   ]
  },
  {
   "cell_type": "code",
   "execution_count": 283,
   "metadata": {},
   "outputs": [
    {
     "name": "stdout",
     "output_type": "stream",
     "text": [
      "Switching training time: 0.00015616416931152344 seconds\n"
     ]
    }
   ],
   "source": [
    "# Create a switching hybrid recomme\n",
    "\n",
    "# Record start time\n",
    "switching_start_time = time.time()\n",
    "\n",
    "def switching_hybrid_recommender(user_id, book_vector, hnsw_index, book_id_train, slopeone_model, user_history, n=5, rating_threshold=3):\n",
    "    # Check if the user has enough historical ratings for collaborative filtering\n",
    "    if user_id in user_history and len(user_history[user_id]) >= rating_threshold:\n",
    "        # Use collaborative filtering (SlopeOne)\n",
    "        recommended_books = []\n",
    "        for book_id in book_id_train:\n",
    "            pred = slopeone_model.predict(user_id, book_id)\n",
    "            recommended_books.append((book_id, pred.est))\n",
    "\n",
    "        # Sort by predicted rating and return top N recommendations\n",
    "        recommended_books.sort(key=lambda x: x[1], reverse=True)\n",
    "        return [book_id for book_id, _ in recommended_books[:n]]\n",
    "\n",
    "    else:\n",
    "        # Use content-based filtering (HNSW)\n",
    "        return get_top_n_recommendations(book_vector, hnsw_index, book_id_train, n)\n",
    "\n",
    "# Record the end time \n",
    "switching_end_time = time.time()\n",
    "switching_elapsed_time = switching_end_time - switching_start_time\n",
    "print(f\"Switching training time: {switching_elapsed_time} seconds\")"
   ]
  },
  {
   "cell_type": "code",
   "execution_count": 284,
   "metadata": {},
   "outputs": [],
   "source": [
    "# Set up evaluation\n",
    "\n",
    "def evaluate_switching_hybrid(X_test_filtered, y_test, book_id_test, user_ids, hnsw_index, book_id_train, slopeone_model, user_history, n=5, rating_threshold=3):\n",
    "    precision_list = []\n",
    "    recall_list = []\n",
    "\n",
    "    for i in range(len(user_ids)):  # Iterate over all users in the test set\n",
    "        user_id = user_ids[i]  # Get the current user ID\n",
    "        book_vector = np.array(X_test_filtered.iloc[i]).reshape(1, -1) \n",
    "\n",
    "        # Generate recommendations\n",
    "        top_n_books = switching_hybrid_recommender(\n",
    "            user_id, book_vector, hnsw_index, book_id_train, slopeone_model, user_history, n, rating_threshold\n",
    "        )\n",
    "\n",
    "        # Extract user's liked books (rating ≥ 4)\n",
    "        liked_books = [book_id_test.iloc[i]] if y_test.iloc[i] >= 4 else []\n",
    "\n",
    "        # Compute Precision and Recall\n",
    "        true_relevance = sum(1 for book in set(top_n_books) if book in liked_books)\n",
    "        precision = true_relevance / len(top_n_books) if len(top_n_books) > 0 else 0\n",
    "        recall = true_relevance / max(len(liked_books), 1)\n",
    "\n",
    "        precision_list.append(precision)\n",
    "        recall_list.append(recall)\n",
    "\n",
    "    return np.mean(precision_list), np.mean(recall_list)"
   ]
  },
  {
   "cell_type": "code",
   "execution_count": 285,
   "metadata": {},
   "outputs": [
    {
     "name": "stdout",
     "output_type": "stream",
     "text": [
      "Switching Average Precision: 0.5900\n",
      "Switching Average Recall: 0.5900\n"
     ]
    }
   ],
   "source": [
    "# Ensure X_test_filtered is a DataFrame\n",
    "if isinstance(X_test_filtered, np.ndarray):\n",
    "    X_test_filtered = pd.DataFrame(X_test_filtered)\n",
    "\n",
    "# Reduce test sample size\n",
    "X_test_sample = X_test.sample(n=100, random_state=42)  \n",
    "X_test_filtered_sample = X_test_filtered.iloc[X_test_sample.index]  \n",
    "\n",
    "# Optimize indexing\n",
    "user_ids = X_test_sample[\"user_id\"].values  \n",
    "book_id_test_sample = X_test_sample[\"book_id\"].reset_index(drop=True)\n",
    "y_test_sample = y_test.loc[X_test_sample.index].reset_index(drop=True)\n",
    "\n",
    "# Ensure user_history is properly loaded\n",
    "if 'user_history' not in globals():\n",
    "    user_history = {}\n",
    "\n",
    "# Speed up HNSW search\n",
    "hnsw_index.set_ef(50)  # Reduce ef for faster queries\n",
    "\n",
    "# Safe wrapper function\n",
    "def evaluate_switching_hybrid_safe(*args, **kwargs):\n",
    "    try:\n",
    "        result = evaluate_switching_hybrid(*args, **kwargs)\n",
    "        if isinstance(result, tuple) and len(result) == 2:\n",
    "            return result\n",
    "        else:\n",
    "            print(\"⚠️ Unexpected return type from evaluate_switching_hybrid. Using (0, 0)\")\n",
    "            return (0, 0)\n",
    "    except Exception as e:\n",
    "        print(f\"⚠️ Error in evaluate_switching_hybrid: {e}\")\n",
    "        return (0, 0) \n",
    "\n",
    "# Run evaluation in parallel\n",
    "results = Parallel(n_jobs=4)(\n",
    "    delayed(evaluate_switching_hybrid_safe)(\n",
    "        X_test_filtered_sample, y_test_sample, book_id_test_sample, user_ids, \n",
    "        hnsw_index, book_id_train, slopeone, user_history, n=5\n",
    "    )\n",
    "    for _ in range(1) \n",
    ")\n",
    "\n",
    "# Extract values correctly\n",
    "if results and isinstance(results[0], tuple):\n",
    "    avg_precision, avg_recall = results[0]\n",
    "else:\n",
    "    avg_precision, avg_recall = 0, 0 \n",
    "\n",
    "# Print final results\n",
    "print(f\"Switching Average Precision: {avg_precision:.4f}\")\n",
    "print(f\"Switching Average Recall: {avg_recall:.4f}\")"
   ]
  },
  {
   "cell_type": "markdown",
   "metadata": {},
   "source": [
    "### Create a Mixed Hybrid Recommendation System"
   ]
  },
  {
   "cell_type": "code",
   "execution_count": 286,
   "metadata": {},
   "outputs": [
    {
     "name": "stdout",
     "output_type": "stream",
     "text": [
      "Mixed training time: 0.0001690387725830078 seconds\n"
     ]
    }
   ],
   "source": [
    "# Record start time\n",
    "mixed_start_time = time.time()\n",
    "\n",
    "# Hybrid Recommendation Function\n",
    "def hybrid_recommender(user_id, book_vector, hnsw_index, book_id_train, slopeone, n=5):\n",
    "    # Step 1: Content-Based Recommendations\n",
    "    top_n_books = get_top_n_recommendations(book_vector, hnsw_index, book_id_train, n=n * 2)  # Get more books initially\n",
    "    \n",
    "    # Step 2: Collaborative Filtering - Predict Ratings\n",
    "    book_ratings = {}\n",
    "    for book_id in top_n_books:\n",
    "        pred = slopeone.predict(user_id, book_id).est \n",
    "        book_ratings[book_id] = pred\n",
    "    \n",
    "    # Step 3: Sort by Predicted Ratings and Select Top-N\n",
    "    ranked_books = sorted(book_ratings, key=book_ratings.get, reverse=True)[:n]\n",
    "    \n",
    "    return ranked_books\n",
    "\n",
    "# Record the end time \n",
    "mixed_end_time = time.time()\n",
    "mixed_elapsed_time = mixed_end_time - mixed_start_time\n",
    "print(f\"Mixed training time: {mixed_elapsed_time} seconds\")"
   ]
  },
  {
   "cell_type": "code",
   "execution_count": 287,
   "metadata": {},
   "outputs": [],
   "source": [
    "# Hybrid Evaluation Function\n",
    "def evaluate_hybrid(X_test, y_test, hnsw_index, book_id_test, book_id_train, slopeone, n=5):\n",
    "    precision_list, recall_list = [], []\n",
    "    \n",
    "    for i in range(len(X_test)):\n",
    "        user_id = X_test.iloc[i]['user_id']\n",
    "        book_vector = X_test_filtered.iloc[i].values.reshape(1, -1) \n",
    "        \n",
    "        # Generate Hybrid Recommendations\n",
    "        recommended_books = hybrid_recommender(user_id, book_vector, hnsw_index, book_id_train, slopeone, n)\n",
    "        \n",
    "        # Extract Ground Truth (Liked Books)\n",
    "        liked_books = [book_id_test[i]] if y_test[i] >= 4 else []\n",
    "        \n",
    "        # Compute Precision and Recall\n",
    "        true_relevance = sum(1 for book in set(recommended_books) if book in liked_books)\n",
    "        precision = true_relevance / len(recommended_books) if recommended_books else 0\n",
    "        recall = true_relevance / max(len(liked_books), 1)\n",
    "        \n",
    "        precision_list.append(precision)\n",
    "        recall_list.append(recall)\n",
    "    \n",
    "    return np.mean(precision_list), np.mean(recall_list)"
   ]
  },
  {
   "cell_type": "code",
   "execution_count": 288,
   "metadata": {},
   "outputs": [
    {
     "name": "stdout",
     "output_type": "stream",
     "text": [
      "Mixed Hybrid Average Precision: 0.5221\n",
      "Mixed Hybrid Average Recall: 0.5244\n"
     ]
    }
   ],
   "source": [
    "# Run Hybrid Recommender\n",
    "if __name__ == \"__main__\":\n",
    "    # Train HNSW\n",
    "    hnsw_index = build_hnsw_index(X_train_filtered)\n",
    "    \n",
    "    # Evaluate Hybrid Model\n",
    "    avg_precision, avg_recall = evaluate_hybrid(X_test, y_test, hnsw_index, book_id_test, book_id_train, slopeone, n=5)\n",
    "    \n",
    "    # Print Results\n",
    "    print(f\"Mixed Hybrid Average Precision: {avg_precision:.4f}\")\n",
    "    print(f\"Mixed Hybrid Average Recall: {avg_recall:.4f}\")\n"
   ]
  },
  {
   "cell_type": "markdown",
   "metadata": {},
   "source": [
    "### Create a Cascade Hybrid Recommendation System"
   ]
  },
  {
   "cell_type": "code",
   "execution_count": 289,
   "metadata": {},
   "outputs": [
    {
     "name": "stdout",
     "output_type": "stream",
     "text": [
      "Cascade training time: 0.0002200603485107422 seconds\n"
     ]
    }
   ],
   "source": [
    "# Record start time\n",
    "cascade_start_time = time.time()\n",
    "\n",
    "def cascade_hybrid_recommender(user_id, book_vector, hnsw_index, book_id_train, slopeone, n=5):\n",
    "    # Use HNSW to get top N candidate books\n",
    "    candidate_books = get_top_n_recommendations(book_vector, hnsw_index, book_id_train, n * 2)\n",
    "\n",
    "    # Predict ratings with SlopeOne and rank them\n",
    "    book_ratings = []\n",
    "    for book_id in candidate_books:\n",
    "        pred = slopeone.predict(uid=user_id, iid=book_id)\n",
    "        book_ratings.append((book_id, pred.est))\n",
    "\n",
    "    # Sort by predicted ratings and return top N\n",
    "    book_ratings.sort(key=lambda x: x[1], reverse=True)\n",
    "    top_books = [book[0] for book in book_ratings[:n]] \n",
    "\n",
    "    return top_books\n",
    "\n",
    "# Record the end time \n",
    "cascade_end_time = time.time()\n",
    "cascade_elapsed_time = cascade_end_time - cascade_start_time\n",
    "print(f\"Cascade training time: {cascade_elapsed_time} seconds\")"
   ]
  },
  {
   "cell_type": "code",
   "execution_count": 290,
   "metadata": {},
   "outputs": [],
   "source": [
    "# Evaluation function\n",
    "def evaluate_cascade_hybrid(X_test, y_test, hnsw_index, book_id_test, book_id_train, slopeone, n=5):\n",
    "    precision_list, recall_list = [], []\n",
    "\n",
    "    for i in range(len(X_test)):\n",
    "        user_id = X_test.iloc[i]['user_id']\n",
    "        book_vector = np.array(X_test_filtered.iloc[i]).reshape(1, -1) \n",
    "\n",
    "        # Generate recommendations using the cascade hybrid approach\n",
    "        recommended_books = cascade_hybrid_recommender(user_id, book_vector, hnsw_index, book_id_train, slopeone, n)\n",
    "\n",
    "        # Extract user's liked books (rating ≥ 4)\n",
    "        liked_books = [book_id_test[i]] if y_test[i] >= 4 else []\n",
    "\n",
    "        # Compute Precision and Recall\n",
    "        true_relevance = sum(1 for book in recommended_books if book in liked_books)\n",
    "        precision = true_relevance / len(recommended_books) if recommended_books else 0\n",
    "        recall = true_relevance / max(len(liked_books), 1)\n",
    "\n",
    "        precision_list.append(precision)\n",
    "        recall_list.append(recall)\n",
    "\n",
    "    return np.mean(precision_list), np.mean(recall_list)"
   ]
  },
  {
   "cell_type": "code",
   "execution_count": 291,
   "metadata": {},
   "outputs": [
    {
     "name": "stdout",
     "output_type": "stream",
     "text": [
      "Cascade Hybrid Average Precision: 0.5430\n",
      "Cascade Hybrid Average Recall: 0.5447\n"
     ]
    }
   ],
   "source": [
    "# Run the cascade hybrid system\n",
    "if __name__ == \"__main__\":\n",
    "    # Train HNSW\n",
    "    hnsw_index = build_hnsw_index(X_train_filtered)\n",
    "\n",
    "    # Evaluate Cascade Hybrid Model\n",
    "    avg_precision, avg_recall = evaluate_cascade_hybrid(X_test, y_test, hnsw_index, book_id_test, book_id_train, slopeone, n=5)\n",
    "\n",
    "    # Print Results\n",
    "    print(f\"Cascade Hybrid Average Precision: {avg_precision:.4f}\")\n",
    "    print(f\"Cascade Hybrid Average Recall: {avg_recall:.4f}\")"
   ]
  },
  {
   "cell_type": "markdown",
   "metadata": {},
   "source": [
    "### Create a Feature Hybrid Recommendation System"
   ]
  },
  {
   "cell_type": "code",
   "execution_count": 306,
   "metadata": {},
   "outputs": [],
   "source": [
    "X_test_sample = X_test.iloc[:1000]\n",
    "y_test_sample = y_test.iloc[:1000]"
   ]
  },
  {
   "cell_type": "code",
   "execution_count": 307,
   "metadata": {},
   "outputs": [],
   "source": [
    "# Record start time\n",
    "feature_start_time = time.time()\n",
    "\n",
    "def build_hnsw_index(X_train):\n",
    "    dim = X_train.shape[1]\n",
    "    num_elements = X_train.shape[0]\n",
    "\n",
    "    hnsw = hnswlib.Index(space=\"l2\", dim=dim)\n",
    "    hnsw.init_index(max_elements=num_elements, ef_construction=200, M=32)  \n",
    "    hnsw.add_items(X_train, np.arange(num_elements))\n",
    "    hnsw.set_ef(200)\n",
    "    \n",
    "    return hnsw\n",
    "\n",
    "# Faster HNSW Recommendations\n",
    "def get_hnsw_recommendations(book_vector, hnsw_index, book_id_train, n=5):\n",
    "    labels, _ = hnsw_index.knn_query(book_vector, k=n)\n",
    "    return book_id_train[labels.flatten()].tolist() if labels.size else []\n"
   ]
  },
  {
   "cell_type": "code",
   "execution_count": 308,
   "metadata": {},
   "outputs": [],
   "source": [
    "# Function to train and predict using SlopeOne\n",
    "def train_slopeone(X_train, y_train):\n",
    "    reader = Reader(rating_scale=(1, 5))\n",
    "    dataset = Dataset.load_from_df(pd.concat([X_train, pd.Series(y_train, name=\"rating\")], axis=1)[['user_id', 'book_id', 'rating']], reader)\n",
    "    \n",
    "    slopeone = SlopeOne()\n",
    "    slopeone.fit(dataset.build_full_trainset())\n",
    "    return slopeone\n",
    "\n",
    "# Faster SlopeOne Predictions\n",
    "def get_slopeone_predictions(user_id, book_ids, slopeone):\n",
    "    return [pred.iid for pred in sorted(slopeone.test([(user_id, book_id, 0) for book_id in book_ids]), key=lambda pred: pred.est, reverse=True)]"
   ]
  },
  {
   "cell_type": "code",
   "execution_count": 309,
   "metadata": {},
   "outputs": [
    {
     "name": "stdout",
     "output_type": "stream",
     "text": [
      "Feature training time: 6.084208965301514 seconds\n"
     ]
    }
   ],
   "source": [
    "# Hybrid recommendation function\n",
    "def feature_hybrid_recommender(user_id, book_vector, hnsw_index, book_id_train, slopeone, n=5):\n",
    "    content_recs = get_hnsw_recommendations(book_vector, hnsw_index, book_id_train, n)\n",
    "    return get_slopeone_predictions(user_id, content_recs, slopeone)[:n]\n",
    "\n",
    "# Record the end time \n",
    "feature_end_time = time.time()\n",
    "feature_elapsed_time = feature_end_time - feature_start_time\n",
    "print(f\"Feature training time: {feature_elapsed_time} seconds\")"
   ]
  },
  {
   "cell_type": "code",
   "execution_count": 314,
   "metadata": {},
   "outputs": [],
   "source": [
    "# Set up the evaluation\n",
    "def evaluate_feature_hybrid(X_test_sample, y_test_sample, hnsw_index, book_id_test, book_id_train, slopeone, n=5, batch_size=100):\n",
    "    X_test_sample_np = X_test_sample.drop(columns=['user_id']).to_numpy()\n",
    "    y_test_sample_np = y_test_sample.to_numpy()\n",
    "    book_id_test_sample_np = book_id_test[:len(X_test_sample)]\n",
    "\n",
    "    def process_batch(start_idx, end_idx):\n",
    "        batch_results = []\n",
    "        for i in range(start_idx, end_idx):\n",
    "            user_id = X_test_sample.iloc[i]['user_id']\n",
    "            book_vector = X_test_sample_np[i].reshape(1, -1)\n",
    "\n",
    "            recommended_books = feature_hybrid_recommender(user_id, book_vector, hnsw_index, book_id_train, slopeone, n)\n",
    "            liked_books = [book_id_test_sample_np[i]] if y_test_sample_np[i] >= 4 else []\n",
    "\n",
    "            true_relevance = np.isin(recommended_books, liked_books).sum()\n",
    "            precision = true_relevance / len(recommended_books) if recommended_books else 0\n",
    "            recall = true_relevance / max(len(liked_books), 1)\n",
    "\n",
    "            batch_results.append((precision, recall))\n",
    "        \n",
    "        return batch_results\n",
    "\n",
    "    num_samples = len(X_test_sample)\n",
    "    num_batches = (num_samples + batch_size - 1) // batch_size  \n",
    "\n",
    "    all_results = []\n",
    "    for i in range(len(X_test_sample)):\n",
    "        batch_results = [process_batch(i, i+1)]\n",
    "        all_results.extend(batch_results)\n",
    "\n",
    "    precisions, recalls = zip(*[result for batch in all_results for result in batch])\n",
    "    return np.mean(precisions), np.mean(recalls)"
   ]
  },
  {
   "cell_type": "code",
   "execution_count": 315,
   "metadata": {},
   "outputs": [
    {
     "name": "stdout",
     "output_type": "stream",
     "text": [
      "Feature Hybrid Average Precision: 0.0010\n",
      "Feature Hybrid Average Recall: 0.0050\n"
     ]
    }
   ],
   "source": [
    "# Train models\n",
    "hnsw_index = build_hnsw_index(X_train_filtered)\n",
    "slopeone = train_slopeone(X_train, y_train)\n",
    "\n",
    "# Evaluate Model (Batched Processing)\n",
    "avg_precision, avg_recall = evaluate_feature_hybrid(X_test_sample, y_test_sample, hnsw_index, book_id_test, book_id_train, slopeone, n=5, batch_size=100)\n",
    "\n",
    "print(f\"Feature Hybrid Average Precision: {avg_precision:.4f}\")\n",
    "print(f\"Feature Hybrid Average Recall: {avg_recall:.4f}\")"
   ]
  }
 ],
 "metadata": {
  "kernelspec": {
   "display_name": "base",
   "language": "python",
   "name": "python3"
  },
  "language_info": {
   "codemirror_mode": {
    "name": "ipython",
    "version": 3
   },
   "file_extension": ".py",
   "mimetype": "text/x-python",
   "name": "python",
   "nbconvert_exporter": "python",
   "pygments_lexer": "ipython3",
   "version": "3.12.4"
  },
  "widgets": {
   "application/vnd.jupyter.widget-state+json": {
    "state": {},
    "version_major": 2,
    "version_minor": 0
   }
  }
 },
 "nbformat": 4,
 "nbformat_minor": 4
}
